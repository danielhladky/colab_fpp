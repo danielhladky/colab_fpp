{
  "nbformat": 4,
  "nbformat_minor": 0,
  "metadata": {
    "colab": {
      "name": "pandas_dataframe_read_excel_from_local_file_part1_part2.ipynb",
      "version": "0.3.2",
      "provenance": [],
      "collapsed_sections": [],
      "include_colab_link": true
    },
    "kernelspec": {
      "name": "python3",
      "display_name": "Python 3"
    }
  },
  "cells": [
    {
      "cell_type": "markdown",
      "metadata": {
        "id": "view-in-github",
        "colab_type": "text"
      },
      "source": [
        "<a href=\"https://colab.research.google.com/github/danielhladky/colab_fpp/blob/master/pandas_dataframe_read_excel_from_local_file_part1_part2.ipynb\" target=\"_parent\"><img src=\"https://colab.research.google.com/assets/colab-badge.svg\" alt=\"Open In Colab\"/></a>"
      ]
    },
    {
      "metadata": {
        "id": "topYsIaFu1Ul",
        "colab_type": "text"
      },
      "cell_type": "markdown",
      "source": [
        "***Learn Pandas based on the tutorial on***\n",
        "http://pbpython.com/excel-pandas-comp.html\n",
        "http://pbpython.com/excel-pandas-comp-2.html"
      ]
    },
    {
      "metadata": {
        "id": "lpOsTrKvuzfD",
        "colab_type": "code",
        "colab": {
          "resources": {
            "http://localhost:8080/nbextensions/google.colab/files.js": {
              "data": "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",
              "ok": true,
              "headers": [
                [
                  "content-type",
                  "application/javascript"
                ]
              ],
              "status": 200,
              "status_text": ""
            }
          },
          "base_uri": "https://localhost:8080/",
          "height": 69
        },
        "outputId": "2054eb1b-6dae-4508-d488-9d308804511d"
      },
      "cell_type": "code",
      "source": [
        "# import data to colab based on https://towardsdatascience.com/3-ways-to-load-csv-files-into-colab-7c14fcbdcb92\n",
        "import pandas as pd\n",
        "import numpy as np\n",
        "# url = \"https://github.com/danielhladky/datasets/blob/master/excel-comp-data.xlsx\"\n",
        "\n",
        "from google.colab import files\n",
        "uploaded = files.upload()"
      ],
      "execution_count": 2,
      "outputs": [
        {
          "output_type": "display_data",
          "data": {
            "text/html": [
              "\n",
              "     <input type=\"file\" id=\"files-d64b4ac5-570a-4eae-99b6-a9659d6233d5\" name=\"files[]\" multiple disabled />\n",
              "     <output id=\"result-d64b4ac5-570a-4eae-99b6-a9659d6233d5\">\n",
              "      Upload widget is only available when the cell has been executed in the\n",
              "      current browser session. Please rerun this cell to enable.\n",
              "      </output>\n",
              "      <script src=\"/nbextensions/google.colab/files.js\"></script> "
            ],
            "text/plain": [
              "<IPython.core.display.HTML object>"
            ]
          },
          "metadata": {
            "tags": []
          }
        },
        {
          "output_type": "stream",
          "text": [
            "Saving excel-comp-data.xlsx to excel-comp-data.xlsx\n"
          ],
          "name": "stdout"
        }
      ]
    },
    {
      "metadata": {
        "id": "NeMSlfP5zBL9",
        "colab_type": "code",
        "colab": {
          "base_uri": "https://localhost:8080/",
          "height": 204
        },
        "outputId": "a6f922a5-b715-4570-a38b-0a2cbb8f8b2d"
      },
      "cell_type": "code",
      "source": [
        "# store the file into a dataframe\n",
        "import io\n",
        "df = pd.read_excel(io.BytesIO(uploaded['excel-comp-data.xlsx']))\n",
        "df.head()"
      ],
      "execution_count": 3,
      "outputs": [
        {
          "output_type": "execute_result",
          "data": {
            "text/html": [
              "<div>\n",
              "<style scoped>\n",
              "    .dataframe tbody tr th:only-of-type {\n",
              "        vertical-align: middle;\n",
              "    }\n",
              "\n",
              "    .dataframe tbody tr th {\n",
              "        vertical-align: top;\n",
              "    }\n",
              "\n",
              "    .dataframe thead th {\n",
              "        text-align: right;\n",
              "    }\n",
              "</style>\n",
              "<table border=\"1\" class=\"dataframe\">\n",
              "  <thead>\n",
              "    <tr style=\"text-align: right;\">\n",
              "      <th></th>\n",
              "      <th>account</th>\n",
              "      <th>name</th>\n",
              "      <th>street</th>\n",
              "      <th>city</th>\n",
              "      <th>state</th>\n",
              "      <th>postal-code</th>\n",
              "      <th>Jan</th>\n",
              "      <th>Feb</th>\n",
              "      <th>Mar</th>\n",
              "    </tr>\n",
              "  </thead>\n",
              "  <tbody>\n",
              "    <tr>\n",
              "      <th>0</th>\n",
              "      <td>211829</td>\n",
              "      <td>Kerluke, Koepp and Hilpert</td>\n",
              "      <td>34456 Sean Highway</td>\n",
              "      <td>New Jaycob</td>\n",
              "      <td>Texas</td>\n",
              "      <td>28752</td>\n",
              "      <td>10000</td>\n",
              "      <td>62000</td>\n",
              "      <td>35000</td>\n",
              "    </tr>\n",
              "    <tr>\n",
              "      <th>1</th>\n",
              "      <td>320563</td>\n",
              "      <td>Walter-Trantow</td>\n",
              "      <td>1311 Alvis Tunnel</td>\n",
              "      <td>Port Khadijah</td>\n",
              "      <td>NorthCarolina</td>\n",
              "      <td>38365</td>\n",
              "      <td>95000</td>\n",
              "      <td>45000</td>\n",
              "      <td>35000</td>\n",
              "    </tr>\n",
              "    <tr>\n",
              "      <th>2</th>\n",
              "      <td>648336</td>\n",
              "      <td>Bashirian, Kunde and Price</td>\n",
              "      <td>62184 Schamberger Underpass Apt. 231</td>\n",
              "      <td>New Lilianland</td>\n",
              "      <td>Iowa</td>\n",
              "      <td>76517</td>\n",
              "      <td>91000</td>\n",
              "      <td>120000</td>\n",
              "      <td>35000</td>\n",
              "    </tr>\n",
              "    <tr>\n",
              "      <th>3</th>\n",
              "      <td>109996</td>\n",
              "      <td>D'Amore, Gleichner and Bode</td>\n",
              "      <td>155 Fadel Crescent Apt. 144</td>\n",
              "      <td>Hyattburgh</td>\n",
              "      <td>Maine</td>\n",
              "      <td>46021</td>\n",
              "      <td>45000</td>\n",
              "      <td>120000</td>\n",
              "      <td>10000</td>\n",
              "    </tr>\n",
              "    <tr>\n",
              "      <th>4</th>\n",
              "      <td>121213</td>\n",
              "      <td>Bauch-Goldner</td>\n",
              "      <td>7274 Marissa Common</td>\n",
              "      <td>Shanahanchester</td>\n",
              "      <td>California</td>\n",
              "      <td>49681</td>\n",
              "      <td>162000</td>\n",
              "      <td>120000</td>\n",
              "      <td>35000</td>\n",
              "    </tr>\n",
              "  </tbody>\n",
              "</table>\n",
              "</div>"
            ],
            "text/plain": [
              "   account                         name                                street  \\\n",
              "0   211829   Kerluke, Koepp and Hilpert                    34456 Sean Highway   \n",
              "1   320563               Walter-Trantow                     1311 Alvis Tunnel   \n",
              "2   648336   Bashirian, Kunde and Price  62184 Schamberger Underpass Apt. 231   \n",
              "3   109996  D'Amore, Gleichner and Bode           155 Fadel Crescent Apt. 144   \n",
              "4   121213                Bauch-Goldner                   7274 Marissa Common   \n",
              "\n",
              "              city          state  postal-code     Jan     Feb    Mar  \n",
              "0       New Jaycob          Texas        28752   10000   62000  35000  \n",
              "1    Port Khadijah  NorthCarolina        38365   95000   45000  35000  \n",
              "2   New Lilianland           Iowa        76517   91000  120000  35000  \n",
              "3       Hyattburgh          Maine        46021   45000  120000  10000  \n",
              "4  Shanahanchester     California        49681  162000  120000  35000  "
            ]
          },
          "metadata": {
            "tags": []
          },
          "execution_count": 3
        }
      ]
    },
    {
      "metadata": {
        "id": "LIp0KCNoz7pH",
        "colab_type": "text"
      },
      "cell_type": "markdown",
      "source": [
        "Create a toal column in order sum Jan,Feb,Mar in XLS =sum(G2:I2)"
      ]
    },
    {
      "metadata": {
        "id": "ZojP6lnh0Kep",
        "colab_type": "code",
        "colab": {
          "base_uri": "https://localhost:8080/",
          "height": 204
        },
        "outputId": "e971f6f1-386d-436a-efa7-d81cca7407b3"
      },
      "cell_type": "code",
      "source": [
        "df[\"total\"] = df['Jan'] + df[\"Feb\"] + df[\"Mar\"]\n",
        "df.head()"
      ],
      "execution_count": 4,
      "outputs": [
        {
          "output_type": "execute_result",
          "data": {
            "text/html": [
              "<div>\n",
              "<style scoped>\n",
              "    .dataframe tbody tr th:only-of-type {\n",
              "        vertical-align: middle;\n",
              "    }\n",
              "\n",
              "    .dataframe tbody tr th {\n",
              "        vertical-align: top;\n",
              "    }\n",
              "\n",
              "    .dataframe thead th {\n",
              "        text-align: right;\n",
              "    }\n",
              "</style>\n",
              "<table border=\"1\" class=\"dataframe\">\n",
              "  <thead>\n",
              "    <tr style=\"text-align: right;\">\n",
              "      <th></th>\n",
              "      <th>account</th>\n",
              "      <th>name</th>\n",
              "      <th>street</th>\n",
              "      <th>city</th>\n",
              "      <th>state</th>\n",
              "      <th>postal-code</th>\n",
              "      <th>Jan</th>\n",
              "      <th>Feb</th>\n",
              "      <th>Mar</th>\n",
              "      <th>total</th>\n",
              "    </tr>\n",
              "  </thead>\n",
              "  <tbody>\n",
              "    <tr>\n",
              "      <th>0</th>\n",
              "      <td>211829</td>\n",
              "      <td>Kerluke, Koepp and Hilpert</td>\n",
              "      <td>34456 Sean Highway</td>\n",
              "      <td>New Jaycob</td>\n",
              "      <td>Texas</td>\n",
              "      <td>28752</td>\n",
              "      <td>10000</td>\n",
              "      <td>62000</td>\n",
              "      <td>35000</td>\n",
              "      <td>107000</td>\n",
              "    </tr>\n",
              "    <tr>\n",
              "      <th>1</th>\n",
              "      <td>320563</td>\n",
              "      <td>Walter-Trantow</td>\n",
              "      <td>1311 Alvis Tunnel</td>\n",
              "      <td>Port Khadijah</td>\n",
              "      <td>NorthCarolina</td>\n",
              "      <td>38365</td>\n",
              "      <td>95000</td>\n",
              "      <td>45000</td>\n",
              "      <td>35000</td>\n",
              "      <td>175000</td>\n",
              "    </tr>\n",
              "    <tr>\n",
              "      <th>2</th>\n",
              "      <td>648336</td>\n",
              "      <td>Bashirian, Kunde and Price</td>\n",
              "      <td>62184 Schamberger Underpass Apt. 231</td>\n",
              "      <td>New Lilianland</td>\n",
              "      <td>Iowa</td>\n",
              "      <td>76517</td>\n",
              "      <td>91000</td>\n",
              "      <td>120000</td>\n",
              "      <td>35000</td>\n",
              "      <td>246000</td>\n",
              "    </tr>\n",
              "    <tr>\n",
              "      <th>3</th>\n",
              "      <td>109996</td>\n",
              "      <td>D'Amore, Gleichner and Bode</td>\n",
              "      <td>155 Fadel Crescent Apt. 144</td>\n",
              "      <td>Hyattburgh</td>\n",
              "      <td>Maine</td>\n",
              "      <td>46021</td>\n",
              "      <td>45000</td>\n",
              "      <td>120000</td>\n",
              "      <td>10000</td>\n",
              "      <td>175000</td>\n",
              "    </tr>\n",
              "    <tr>\n",
              "      <th>4</th>\n",
              "      <td>121213</td>\n",
              "      <td>Bauch-Goldner</td>\n",
              "      <td>7274 Marissa Common</td>\n",
              "      <td>Shanahanchester</td>\n",
              "      <td>California</td>\n",
              "      <td>49681</td>\n",
              "      <td>162000</td>\n",
              "      <td>120000</td>\n",
              "      <td>35000</td>\n",
              "      <td>317000</td>\n",
              "    </tr>\n",
              "  </tbody>\n",
              "</table>\n",
              "</div>"
            ],
            "text/plain": [
              "   account                         name                                street  \\\n",
              "0   211829   Kerluke, Koepp and Hilpert                    34456 Sean Highway   \n",
              "1   320563               Walter-Trantow                     1311 Alvis Tunnel   \n",
              "2   648336   Bashirian, Kunde and Price  62184 Schamberger Underpass Apt. 231   \n",
              "3   109996  D'Amore, Gleichner and Bode           155 Fadel Crescent Apt. 144   \n",
              "4   121213                Bauch-Goldner                   7274 Marissa Common   \n",
              "\n",
              "              city          state  postal-code     Jan     Feb    Mar   total  \n",
              "0       New Jaycob          Texas        28752   10000   62000  35000  107000  \n",
              "1    Port Khadijah  NorthCarolina        38365   95000   45000  35000  175000  \n",
              "2   New Lilianland           Iowa        76517   91000  120000  35000  246000  \n",
              "3       Hyattburgh          Maine        46021   45000  120000  10000  175000  \n",
              "4  Shanahanchester     California        49681  162000  120000  35000  317000  "
            ]
          },
          "metadata": {
            "tags": []
          },
          "execution_count": 4
        }
      ]
    },
    {
      "metadata": {
        "id": "jwGTyFzA02vc",
        "colab_type": "text"
      },
      "cell_type": "markdown",
      "source": [
        "Perfome some analysis by column Jan, Feb and Mar. Like a new row at the end of each column that shows some analytics. E.g. sum, min, max, mean"
      ]
    },
    {
      "metadata": {
        "id": "h67GWl7J1EZh",
        "colab_type": "code",
        "colab": {
          "base_uri": "https://localhost:8080/",
          "height": 34
        },
        "outputId": "23c07355-463c-4f24-e2b5-59bb7886e8f4"
      },
      "cell_type": "code",
      "source": [
        "# sum over Jan, mean, min, max\n",
        "df[\"Jan\"].sum(), df[\"Jan\"].mean(), df[\"Jan\"].min(), df[\"Jan\"].max()"
      ],
      "execution_count": 5,
      "outputs": [
        {
          "output_type": "execute_result",
          "data": {
            "text/plain": [
              "(1462000, 97466.66666666667, 10000, 162000)"
            ]
          },
          "metadata": {
            "tags": []
          },
          "execution_count": 5
        }
      ]
    },
    {
      "metadata": {
        "id": "-c6Hc5rS2_-N",
        "colab_type": "text"
      },
      "cell_type": "markdown",
      "source": [
        "Add the sum as a new row to the dataframe"
      ]
    },
    {
      "metadata": {
        "id": "DsiIGaSl3EnS",
        "colab_type": "code",
        "colab": {
          "base_uri": "https://localhost:8080/",
          "height": 102
        },
        "outputId": "275995f3-912d-4a45-a054-bd254904b012"
      },
      "cell_type": "code",
      "source": [
        "# first, create sum for each column you want\n",
        "sum_row=df[[\"Jan\", \"Feb\", \"Mar\", \"total\"]].sum()\n",
        "sum_row"
      ],
      "execution_count": 6,
      "outputs": [
        {
          "output_type": "execute_result",
          "data": {
            "text/plain": [
              "Jan      1462000\n",
              "Feb      1507000\n",
              "Mar       717000\n",
              "total    3686000\n",
              "dtype: int64"
            ]
          },
          "metadata": {
            "tags": []
          },
          "execution_count": 6
        }
      ]
    },
    {
      "metadata": {
        "id": "vzusYZpT3b77",
        "colab_type": "code",
        "colab": {
          "base_uri": "https://localhost:8080/",
          "height": 80
        },
        "outputId": "08ae6f48-d8da-4148-8fbf-a9a2938dc7bb"
      },
      "cell_type": "code",
      "source": [
        "# second, transpose into a dataframe\n",
        "df_sum=pd.DataFrame(data=sum_row).T\n",
        "df_sum"
      ],
      "execution_count": 7,
      "outputs": [
        {
          "output_type": "execute_result",
          "data": {
            "text/html": [
              "<div>\n",
              "<style scoped>\n",
              "    .dataframe tbody tr th:only-of-type {\n",
              "        vertical-align: middle;\n",
              "    }\n",
              "\n",
              "    .dataframe tbody tr th {\n",
              "        vertical-align: top;\n",
              "    }\n",
              "\n",
              "    .dataframe thead th {\n",
              "        text-align: right;\n",
              "    }\n",
              "</style>\n",
              "<table border=\"1\" class=\"dataframe\">\n",
              "  <thead>\n",
              "    <tr style=\"text-align: right;\">\n",
              "      <th></th>\n",
              "      <th>Jan</th>\n",
              "      <th>Feb</th>\n",
              "      <th>Mar</th>\n",
              "      <th>total</th>\n",
              "    </tr>\n",
              "  </thead>\n",
              "  <tbody>\n",
              "    <tr>\n",
              "      <th>0</th>\n",
              "      <td>1462000</td>\n",
              "      <td>1507000</td>\n",
              "      <td>717000</td>\n",
              "      <td>3686000</td>\n",
              "    </tr>\n",
              "  </tbody>\n",
              "</table>\n",
              "</div>"
            ],
            "text/plain": [
              "       Jan      Feb     Mar    total\n",
              "0  1462000  1507000  717000  3686000"
            ]
          },
          "metadata": {
            "tags": []
          },
          "execution_count": 7
        }
      ]
    },
    {
      "metadata": {
        "id": "7VYtpC443w9s",
        "colab_type": "code",
        "colab": {
          "base_uri": "https://localhost:8080/",
          "height": 80
        },
        "outputId": "3c706b17-79a4-4172-8948-b844930fc466"
      },
      "cell_type": "code",
      "source": [
        "# thirs, reindex the df\n",
        "df_sum=df_sum.reindex(columns=df.columns)\n",
        "df_sum"
      ],
      "execution_count": 8,
      "outputs": [
        {
          "output_type": "execute_result",
          "data": {
            "text/html": [
              "<div>\n",
              "<style scoped>\n",
              "    .dataframe tbody tr th:only-of-type {\n",
              "        vertical-align: middle;\n",
              "    }\n",
              "\n",
              "    .dataframe tbody tr th {\n",
              "        vertical-align: top;\n",
              "    }\n",
              "\n",
              "    .dataframe thead th {\n",
              "        text-align: right;\n",
              "    }\n",
              "</style>\n",
              "<table border=\"1\" class=\"dataframe\">\n",
              "  <thead>\n",
              "    <tr style=\"text-align: right;\">\n",
              "      <th></th>\n",
              "      <th>account</th>\n",
              "      <th>name</th>\n",
              "      <th>street</th>\n",
              "      <th>city</th>\n",
              "      <th>state</th>\n",
              "      <th>postal-code</th>\n",
              "      <th>Jan</th>\n",
              "      <th>Feb</th>\n",
              "      <th>Mar</th>\n",
              "      <th>total</th>\n",
              "    </tr>\n",
              "  </thead>\n",
              "  <tbody>\n",
              "    <tr>\n",
              "      <th>0</th>\n",
              "      <td>NaN</td>\n",
              "      <td>NaN</td>\n",
              "      <td>NaN</td>\n",
              "      <td>NaN</td>\n",
              "      <td>NaN</td>\n",
              "      <td>NaN</td>\n",
              "      <td>1462000</td>\n",
              "      <td>1507000</td>\n",
              "      <td>717000</td>\n",
              "      <td>3686000</td>\n",
              "    </tr>\n",
              "  </tbody>\n",
              "</table>\n",
              "</div>"
            ],
            "text/plain": [
              "   account  name  street  city  state  postal-code      Jan      Feb     Mar  \\\n",
              "0      NaN   NaN     NaN   NaN    NaN          NaN  1462000  1507000  717000   \n",
              "\n",
              "     total  \n",
              "0  3686000  "
            ]
          },
          "metadata": {
            "tags": []
          },
          "execution_count": 8
        }
      ]
    },
    {
      "metadata": {
        "id": "eJTTRenUfwex",
        "colab_type": "code",
        "colab": {
          "base_uri": "https://localhost:8080/",
          "height": 80
        },
        "outputId": "4f7980e6-2a94-43db-e406-fb392590492b"
      },
      "cell_type": "code",
      "source": [
        "# replace NaN in state with ' '\n",
        "df_sum.state = (' ')\n",
        "df_sum"
      ],
      "execution_count": 10,
      "outputs": [
        {
          "output_type": "execute_result",
          "data": {
            "text/html": [
              "<div>\n",
              "<style scoped>\n",
              "    .dataframe tbody tr th:only-of-type {\n",
              "        vertical-align: middle;\n",
              "    }\n",
              "\n",
              "    .dataframe tbody tr th {\n",
              "        vertical-align: top;\n",
              "    }\n",
              "\n",
              "    .dataframe thead th {\n",
              "        text-align: right;\n",
              "    }\n",
              "</style>\n",
              "<table border=\"1\" class=\"dataframe\">\n",
              "  <thead>\n",
              "    <tr style=\"text-align: right;\">\n",
              "      <th></th>\n",
              "      <th>account</th>\n",
              "      <th>name</th>\n",
              "      <th>street</th>\n",
              "      <th>city</th>\n",
              "      <th>state</th>\n",
              "      <th>postal-code</th>\n",
              "      <th>Jan</th>\n",
              "      <th>Feb</th>\n",
              "      <th>Mar</th>\n",
              "      <th>total</th>\n",
              "    </tr>\n",
              "  </thead>\n",
              "  <tbody>\n",
              "    <tr>\n",
              "      <th>0</th>\n",
              "      <td>NaN</td>\n",
              "      <td>NaN</td>\n",
              "      <td>NaN</td>\n",
              "      <td>NaN</td>\n",
              "      <td></td>\n",
              "      <td>NaN</td>\n",
              "      <td>1462000</td>\n",
              "      <td>1507000</td>\n",
              "      <td>717000</td>\n",
              "      <td>3686000</td>\n",
              "    </tr>\n",
              "  </tbody>\n",
              "</table>\n",
              "</div>"
            ],
            "text/plain": [
              "   account  name  street  city state  postal-code      Jan      Feb     Mar  \\\n",
              "0      NaN   NaN     NaN   NaN                NaN  1462000  1507000  717000   \n",
              "\n",
              "     total  \n",
              "0  3686000  "
            ]
          },
          "metadata": {
            "tags": []
          },
          "execution_count": 10
        }
      ]
    },
    {
      "metadata": {
        "id": "ovnMl23Z4ANy",
        "colab_type": "code",
        "colab": {
          "base_uri": "https://localhost:8080/",
          "height": 204
        },
        "outputId": "991e7150-322a-4659-b65d-cab8eaebbbcb"
      },
      "cell_type": "code",
      "source": [
        "# add the new dataframe, the new row to the existing dataframe. create a new df_final that combines all\n",
        "df_final = df.append(df_sum, ignore_index=True)\n",
        "# show the last records\n",
        "df_final.tail()"
      ],
      "execution_count": 11,
      "outputs": [
        {
          "output_type": "execute_result",
          "data": {
            "text/html": [
              "<div>\n",
              "<style scoped>\n",
              "    .dataframe tbody tr th:only-of-type {\n",
              "        vertical-align: middle;\n",
              "    }\n",
              "\n",
              "    .dataframe tbody tr th {\n",
              "        vertical-align: top;\n",
              "    }\n",
              "\n",
              "    .dataframe thead th {\n",
              "        text-align: right;\n",
              "    }\n",
              "</style>\n",
              "<table border=\"1\" class=\"dataframe\">\n",
              "  <thead>\n",
              "    <tr style=\"text-align: right;\">\n",
              "      <th></th>\n",
              "      <th>account</th>\n",
              "      <th>name</th>\n",
              "      <th>street</th>\n",
              "      <th>city</th>\n",
              "      <th>state</th>\n",
              "      <th>postal-code</th>\n",
              "      <th>Jan</th>\n",
              "      <th>Feb</th>\n",
              "      <th>Mar</th>\n",
              "      <th>total</th>\n",
              "    </tr>\n",
              "  </thead>\n",
              "  <tbody>\n",
              "    <tr>\n",
              "      <th>11</th>\n",
              "      <td>231907.0</td>\n",
              "      <td>Hahn-Moore</td>\n",
              "      <td>18115 Olivine Throughway</td>\n",
              "      <td>Norbertomouth</td>\n",
              "      <td>NorthDakota</td>\n",
              "      <td>31415.0</td>\n",
              "      <td>150000</td>\n",
              "      <td>10000</td>\n",
              "      <td>162000</td>\n",
              "      <td>322000</td>\n",
              "    </tr>\n",
              "    <tr>\n",
              "      <th>12</th>\n",
              "      <td>242368.0</td>\n",
              "      <td>Frami, Anderson and Donnelly</td>\n",
              "      <td>182 Bertie Road</td>\n",
              "      <td>East Davian</td>\n",
              "      <td>Iowa</td>\n",
              "      <td>72686.0</td>\n",
              "      <td>162000</td>\n",
              "      <td>120000</td>\n",
              "      <td>35000</td>\n",
              "      <td>317000</td>\n",
              "    </tr>\n",
              "    <tr>\n",
              "      <th>13</th>\n",
              "      <td>268755.0</td>\n",
              "      <td>Walsh-Haley</td>\n",
              "      <td>2624 Beatty Parkways</td>\n",
              "      <td>Goodwinmouth</td>\n",
              "      <td>RhodeIsland</td>\n",
              "      <td>31919.0</td>\n",
              "      <td>55000</td>\n",
              "      <td>120000</td>\n",
              "      <td>35000</td>\n",
              "      <td>210000</td>\n",
              "    </tr>\n",
              "    <tr>\n",
              "      <th>14</th>\n",
              "      <td>273274.0</td>\n",
              "      <td>McDermott PLC</td>\n",
              "      <td>8917 Bergstrom Meadow</td>\n",
              "      <td>Kathryneborough</td>\n",
              "      <td>Delaware</td>\n",
              "      <td>27933.0</td>\n",
              "      <td>150000</td>\n",
              "      <td>120000</td>\n",
              "      <td>70000</td>\n",
              "      <td>340000</td>\n",
              "    </tr>\n",
              "    <tr>\n",
              "      <th>15</th>\n",
              "      <td>NaN</td>\n",
              "      <td>NaN</td>\n",
              "      <td>NaN</td>\n",
              "      <td>NaN</td>\n",
              "      <td></td>\n",
              "      <td>NaN</td>\n",
              "      <td>1462000</td>\n",
              "      <td>1507000</td>\n",
              "      <td>717000</td>\n",
              "      <td>3686000</td>\n",
              "    </tr>\n",
              "  </tbody>\n",
              "</table>\n",
              "</div>"
            ],
            "text/plain": [
              "     account                          name                    street  \\\n",
              "11  231907.0                    Hahn-Moore  18115 Olivine Throughway   \n",
              "12  242368.0  Frami, Anderson and Donnelly           182 Bertie Road   \n",
              "13  268755.0                   Walsh-Haley      2624 Beatty Parkways   \n",
              "14  273274.0                 McDermott PLC     8917 Bergstrom Meadow   \n",
              "15       NaN                           NaN                       NaN   \n",
              "\n",
              "               city        state  postal-code      Jan      Feb     Mar  \\\n",
              "11    Norbertomouth  NorthDakota      31415.0   150000    10000  162000   \n",
              "12      East Davian         Iowa      72686.0   162000   120000   35000   \n",
              "13     Goodwinmouth  RhodeIsland      31919.0    55000   120000   35000   \n",
              "14  Kathryneborough     Delaware      27933.0   150000   120000   70000   \n",
              "15              NaN                       NaN  1462000  1507000  717000   \n",
              "\n",
              "      total  \n",
              "11   322000  \n",
              "12   317000  \n",
              "13   210000  \n",
              "14   340000  \n",
              "15  3686000  "
            ]
          },
          "metadata": {
            "tags": []
          },
          "execution_count": 11
        }
      ]
    },
    {
      "metadata": {
        "id": "ackUMwQh6DWn",
        "colab_type": "text"
      },
      "cell_type": "markdown",
      "source": [
        "Add a new colum with the abbreviations of the state, e.g. Vermont = VT. In excel you can use vlookup but problem will arise when spüelling is not correct. Pndas can support this with the library fuzzy wuzzy.\n",
        "In case a python library is not in colab install it with pip"
      ]
    },
    {
      "metadata": {
        "id": "92KJtKZd7FQI",
        "colab_type": "code",
        "colab": {
          "base_uri": "https://localhost:8080/",
          "height": 105
        },
        "outputId": "166d7af4-bc7e-425d-b2a6-d116c5d23d2c"
      },
      "cell_type": "code",
      "source": [
        "!pip install fuzzywuzzy"
      ],
      "execution_count": 12,
      "outputs": [
        {
          "output_type": "stream",
          "text": [
            "Collecting fuzzywuzzy\n",
            "  Downloading https://files.pythonhosted.org/packages/d8/f1/5a267addb30ab7eaa1beab2b9323073815da4551076554ecc890a3595ec9/fuzzywuzzy-0.17.0-py2.py3-none-any.whl\n",
            "Installing collected packages: fuzzywuzzy\n",
            "Successfully installed fuzzywuzzy-0.17.0\n"
          ],
          "name": "stdout"
        }
      ]
    },
    {
      "metadata": {
        "id": "BvhJaRGN6iPT",
        "colab_type": "code",
        "colab": {
          "base_uri": "https://localhost:8080/",
          "height": 71
        },
        "outputId": "256789d6-e970-4ff7-d1be-e6c653cb46c7"
      },
      "cell_type": "code",
      "source": [
        "from fuzzywuzzy import fuzz\n",
        "from fuzzywuzzy import process"
      ],
      "execution_count": 13,
      "outputs": [
        {
          "output_type": "stream",
          "text": [
            "/usr/local/lib/python3.6/dist-packages/fuzzywuzzy/fuzz.py:11: UserWarning: Using slow pure-python SequenceMatcher. Install python-Levenshtein to remove this warning\n",
            "  warnings.warn('Using slow pure-python SequenceMatcher. Install python-Levenshtein to remove this warning')\n"
          ],
          "name": "stderr"
        }
      ]
    },
    {
      "metadata": {
        "id": "IPjsoHJQ7azO",
        "colab_type": "code",
        "colab": {}
      },
      "cell_type": "code",
      "source": [
        "# convert all state to code\n",
        "state_to_code = {\"VERMONT\": \"VT\", \"GEORGIA\": \"GA\", \"IOWA\": \"IA\", \"Armed Forces Pacific\": \"AP\", \"GUAM\": \"GU\",\n",
        "                 \"KANSAS\": \"KS\", \"FLORIDA\": \"FL\", \"AMERICAN SAMOA\": \"AS\", \"NORTH CAROLINA\": \"NC\", \"HAWAII\": \"HI\",\n",
        "                 \"NEW YORK\": \"NY\", \"CALIFORNIA\": \"CA\", \"ALABAMA\": \"AL\", \"IDAHO\": \"ID\", \"FEDERATED STATES OF MICRONESIA\": \"FM\",\n",
        "                 \"Armed Forces Americas\": \"AA\", \"DELAWARE\": \"DE\", \"ALASKA\": \"AK\", \"ILLINOIS\": \"IL\",\n",
        "                 \"Armed Forces Africa\": \"AE\", \"SOUTH DAKOTA\": \"SD\", \"CONNECTICUT\": \"CT\", \"MONTANA\": \"MT\", \"MASSACHUSETTS\": \"MA\",\n",
        "                 \"PUERTO RICO\": \"PR\", \"Armed Forces Canada\": \"AE\", \"NEW HAMPSHIRE\": \"NH\", \"MARYLAND\": \"MD\", \"NEW MEXICO\": \"NM\",\n",
        "                 \"MISSISSIPPI\": \"MS\", \"TENNESSEE\": \"TN\", \"PALAU\": \"PW\", \"COLORADO\": \"CO\", \"Armed Forces Middle East\": \"AE\",\n",
        "                 \"NEW JERSEY\": \"NJ\", \"UTAH\": \"UT\", \"MICHIGAN\": \"MI\", \"WEST VIRGINIA\": \"WV\", \"WASHINGTON\": \"WA\",\n",
        "                 \"MINNESOTA\": \"MN\", \"OREGON\": \"OR\", \"VIRGINIA\": \"VA\", \"VIRGIN ISLANDS\": \"VI\", \"MARSHALL ISLANDS\": \"MH\",\n",
        "                 \"WYOMING\": \"WY\", \"OHIO\": \"OH\", \"SOUTH CAROLINA\": \"SC\", \"INDIANA\": \"IN\", \"NEVADA\": \"NV\", \"LOUISIANA\": \"LA\",\n",
        "                 \"NORTHERN MARIANA ISLANDS\": \"MP\", \"NEBRASKA\": \"NE\", \"ARIZONA\": \"AZ\", \"WISCONSIN\": \"WI\", \"NORTH DAKOTA\": \"ND\",\n",
        "                 \"Armed Forces Europe\": \"AE\", \"PENNSYLVANIA\": \"PA\", \"OKLAHOMA\": \"OK\", \"KENTUCKY\": \"KY\", \"RHODE ISLAND\": \"RI\",\n",
        "                 \"DISTRICT OF COLUMBIA\": \"DC\", \"ARKANSAS\": \"AR\", \"MISSOURI\": \"MO\", \"TEXAS\": \"TX\", \"MAINE\": \"ME\"}"
      ],
      "execution_count": 0,
      "outputs": []
    },
    {
      "metadata": {
        "id": "J0N0z6zA7r_K",
        "colab_type": "code",
        "colab": {
          "base_uri": "https://localhost:8080/",
          "height": 34
        },
        "outputId": "80ff2bff-a38b-4001-bfc4-c38f40f1c649"
      },
      "cell_type": "code",
      "source": [
        "# check how fuzzywuzzy works\n",
        "process.extractOne(\"Minnesotta\", choices=state_to_code.keys())"
      ],
      "execution_count": 15,
      "outputs": [
        {
          "output_type": "execute_result",
          "data": {
            "text/plain": [
              "('MINNESOTA', 95)"
            ]
          },
          "metadata": {
            "tags": []
          },
          "execution_count": 15
        }
      ]
    },
    {
      "metadata": {
        "id": "W9A-__Zq8OCh",
        "colab_type": "code",
        "colab": {
          "base_uri": "https://localhost:8080/",
          "height": 34
        },
        "outputId": "eac34ff8-8c9c-4164-8644-4b4d0ef843e8"
      },
      "cell_type": "code",
      "source": [
        "# use the score_cutoff to specify how precise fuzzy should work\n",
        "process.extractOne(\"AlaBAMMazzz\",choices=state_to_code.keys(),score_cutoff=60)"
      ],
      "execution_count": 16,
      "outputs": [
        {
          "output_type": "execute_result",
          "data": {
            "text/plain": [
              "('ALABAMA', 78)"
            ]
          },
          "metadata": {
            "tags": []
          },
          "execution_count": 16
        }
      ]
    },
    {
      "metadata": {
        "id": "hr6bfBMS8jBX",
        "colab_type": "text"
      },
      "cell_type": "markdown",
      "source": [
        "Apply the fuzzywuzzy as a function to convert the strings into abbreviations. The functions returns only values if found otherwise np.nan (numpy nan) "
      ]
    },
    {
      "metadata": {
        "id": "eOcKByzQ8qlF",
        "colab_type": "code",
        "colab": {}
      },
      "cell_type": "code",
      "source": [
        "def convert_state(row):\n",
        "  abbrev = process.extractOne(row[\"state\"],choices=state_to_code.keys(),score_cutoff=80)\n",
        "  if abbrev:\n",
        "    return state_to_code[abbrev[0]]\n",
        "  return np.nan"
      ],
      "execution_count": 0,
      "outputs": []
    },
    {
      "metadata": {
        "id": "jA56TMEv9BFf",
        "colab_type": "code",
        "colab": {
          "base_uri": "https://localhost:8080/",
          "height": 204
        },
        "outputId": "d5ec80df-0f10-451e-ea28-6ec0eb8cb4e0"
      },
      "cell_type": "code",
      "source": [
        "# initialise the df with a new column and fill with np.nan\n",
        "df_final.insert(6, \"abbrev\", np.nan)\n",
        "df_final.head()"
      ],
      "execution_count": 18,
      "outputs": [
        {
          "output_type": "execute_result",
          "data": {
            "text/html": [
              "<div>\n",
              "<style scoped>\n",
              "    .dataframe tbody tr th:only-of-type {\n",
              "        vertical-align: middle;\n",
              "    }\n",
              "\n",
              "    .dataframe tbody tr th {\n",
              "        vertical-align: top;\n",
              "    }\n",
              "\n",
              "    .dataframe thead th {\n",
              "        text-align: right;\n",
              "    }\n",
              "</style>\n",
              "<table border=\"1\" class=\"dataframe\">\n",
              "  <thead>\n",
              "    <tr style=\"text-align: right;\">\n",
              "      <th></th>\n",
              "      <th>account</th>\n",
              "      <th>name</th>\n",
              "      <th>street</th>\n",
              "      <th>city</th>\n",
              "      <th>state</th>\n",
              "      <th>postal-code</th>\n",
              "      <th>abbrev</th>\n",
              "      <th>Jan</th>\n",
              "      <th>Feb</th>\n",
              "      <th>Mar</th>\n",
              "      <th>total</th>\n",
              "    </tr>\n",
              "  </thead>\n",
              "  <tbody>\n",
              "    <tr>\n",
              "      <th>0</th>\n",
              "      <td>211829.0</td>\n",
              "      <td>Kerluke, Koepp and Hilpert</td>\n",
              "      <td>34456 Sean Highway</td>\n",
              "      <td>New Jaycob</td>\n",
              "      <td>Texas</td>\n",
              "      <td>28752.0</td>\n",
              "      <td>NaN</td>\n",
              "      <td>10000</td>\n",
              "      <td>62000</td>\n",
              "      <td>35000</td>\n",
              "      <td>107000</td>\n",
              "    </tr>\n",
              "    <tr>\n",
              "      <th>1</th>\n",
              "      <td>320563.0</td>\n",
              "      <td>Walter-Trantow</td>\n",
              "      <td>1311 Alvis Tunnel</td>\n",
              "      <td>Port Khadijah</td>\n",
              "      <td>NorthCarolina</td>\n",
              "      <td>38365.0</td>\n",
              "      <td>NaN</td>\n",
              "      <td>95000</td>\n",
              "      <td>45000</td>\n",
              "      <td>35000</td>\n",
              "      <td>175000</td>\n",
              "    </tr>\n",
              "    <tr>\n",
              "      <th>2</th>\n",
              "      <td>648336.0</td>\n",
              "      <td>Bashirian, Kunde and Price</td>\n",
              "      <td>62184 Schamberger Underpass Apt. 231</td>\n",
              "      <td>New Lilianland</td>\n",
              "      <td>Iowa</td>\n",
              "      <td>76517.0</td>\n",
              "      <td>NaN</td>\n",
              "      <td>91000</td>\n",
              "      <td>120000</td>\n",
              "      <td>35000</td>\n",
              "      <td>246000</td>\n",
              "    </tr>\n",
              "    <tr>\n",
              "      <th>3</th>\n",
              "      <td>109996.0</td>\n",
              "      <td>D'Amore, Gleichner and Bode</td>\n",
              "      <td>155 Fadel Crescent Apt. 144</td>\n",
              "      <td>Hyattburgh</td>\n",
              "      <td>Maine</td>\n",
              "      <td>46021.0</td>\n",
              "      <td>NaN</td>\n",
              "      <td>45000</td>\n",
              "      <td>120000</td>\n",
              "      <td>10000</td>\n",
              "      <td>175000</td>\n",
              "    </tr>\n",
              "    <tr>\n",
              "      <th>4</th>\n",
              "      <td>121213.0</td>\n",
              "      <td>Bauch-Goldner</td>\n",
              "      <td>7274 Marissa Common</td>\n",
              "      <td>Shanahanchester</td>\n",
              "      <td>California</td>\n",
              "      <td>49681.0</td>\n",
              "      <td>NaN</td>\n",
              "      <td>162000</td>\n",
              "      <td>120000</td>\n",
              "      <td>35000</td>\n",
              "      <td>317000</td>\n",
              "    </tr>\n",
              "  </tbody>\n",
              "</table>\n",
              "</div>"
            ],
            "text/plain": [
              "    account                         name  \\\n",
              "0  211829.0   Kerluke, Koepp and Hilpert   \n",
              "1  320563.0               Walter-Trantow   \n",
              "2  648336.0   Bashirian, Kunde and Price   \n",
              "3  109996.0  D'Amore, Gleichner and Bode   \n",
              "4  121213.0                Bauch-Goldner   \n",
              "\n",
              "                                 street             city          state  \\\n",
              "0                    34456 Sean Highway       New Jaycob          Texas   \n",
              "1                     1311 Alvis Tunnel    Port Khadijah  NorthCarolina   \n",
              "2  62184 Schamberger Underpass Apt. 231   New Lilianland           Iowa   \n",
              "3           155 Fadel Crescent Apt. 144       Hyattburgh          Maine   \n",
              "4                   7274 Marissa Common  Shanahanchester     California   \n",
              "\n",
              "   postal-code  abbrev     Jan     Feb    Mar   total  \n",
              "0      28752.0     NaN   10000   62000  35000  107000  \n",
              "1      38365.0     NaN   95000   45000  35000  175000  \n",
              "2      76517.0     NaN   91000  120000  35000  246000  \n",
              "3      46021.0     NaN   45000  120000  10000  175000  \n",
              "4      49681.0     NaN  162000  120000  35000  317000  "
            ]
          },
          "metadata": {
            "tags": []
          },
          "execution_count": 18
        }
      ]
    },
    {
      "metadata": {
        "id": "k6PqZWnBg11m",
        "colab_type": "code",
        "colab": {
          "base_uri": "https://localhost:8080/",
          "height": 221
        },
        "outputId": "dee0caa1-2cf7-4473-e0b4-e0d388a5164a"
      },
      "cell_type": "code",
      "source": [
        "# fill abbrev according state using the function\n",
        "df_final['abbrev'] = df_final.apply(convert_state, axis=1)\n",
        "df_final.tail()"
      ],
      "execution_count": 21,
      "outputs": [
        {
          "output_type": "stream",
          "text": [
            "WARNING:root:Applied processor reduces input query to empty string, all comparisons will have score 0. [Query: ' ']\n"
          ],
          "name": "stderr"
        },
        {
          "output_type": "execute_result",
          "data": {
            "text/html": [
              "<div>\n",
              "<style scoped>\n",
              "    .dataframe tbody tr th:only-of-type {\n",
              "        vertical-align: middle;\n",
              "    }\n",
              "\n",
              "    .dataframe tbody tr th {\n",
              "        vertical-align: top;\n",
              "    }\n",
              "\n",
              "    .dataframe thead th {\n",
              "        text-align: right;\n",
              "    }\n",
              "</style>\n",
              "<table border=\"1\" class=\"dataframe\">\n",
              "  <thead>\n",
              "    <tr style=\"text-align: right;\">\n",
              "      <th></th>\n",
              "      <th>account</th>\n",
              "      <th>name</th>\n",
              "      <th>street</th>\n",
              "      <th>city</th>\n",
              "      <th>state</th>\n",
              "      <th>postal-code</th>\n",
              "      <th>abbrev</th>\n",
              "      <th>Jan</th>\n",
              "      <th>Feb</th>\n",
              "      <th>Mar</th>\n",
              "      <th>total</th>\n",
              "    </tr>\n",
              "  </thead>\n",
              "  <tbody>\n",
              "    <tr>\n",
              "      <th>11</th>\n",
              "      <td>231907.0</td>\n",
              "      <td>Hahn-Moore</td>\n",
              "      <td>18115 Olivine Throughway</td>\n",
              "      <td>Norbertomouth</td>\n",
              "      <td>NorthDakota</td>\n",
              "      <td>31415.0</td>\n",
              "      <td>ND</td>\n",
              "      <td>150000</td>\n",
              "      <td>10000</td>\n",
              "      <td>162000</td>\n",
              "      <td>322000</td>\n",
              "    </tr>\n",
              "    <tr>\n",
              "      <th>12</th>\n",
              "      <td>242368.0</td>\n",
              "      <td>Frami, Anderson and Donnelly</td>\n",
              "      <td>182 Bertie Road</td>\n",
              "      <td>East Davian</td>\n",
              "      <td>Iowa</td>\n",
              "      <td>72686.0</td>\n",
              "      <td>IA</td>\n",
              "      <td>162000</td>\n",
              "      <td>120000</td>\n",
              "      <td>35000</td>\n",
              "      <td>317000</td>\n",
              "    </tr>\n",
              "    <tr>\n",
              "      <th>13</th>\n",
              "      <td>268755.0</td>\n",
              "      <td>Walsh-Haley</td>\n",
              "      <td>2624 Beatty Parkways</td>\n",
              "      <td>Goodwinmouth</td>\n",
              "      <td>RhodeIsland</td>\n",
              "      <td>31919.0</td>\n",
              "      <td>RI</td>\n",
              "      <td>55000</td>\n",
              "      <td>120000</td>\n",
              "      <td>35000</td>\n",
              "      <td>210000</td>\n",
              "    </tr>\n",
              "    <tr>\n",
              "      <th>14</th>\n",
              "      <td>273274.0</td>\n",
              "      <td>McDermott PLC</td>\n",
              "      <td>8917 Bergstrom Meadow</td>\n",
              "      <td>Kathryneborough</td>\n",
              "      <td>Delaware</td>\n",
              "      <td>27933.0</td>\n",
              "      <td>DE</td>\n",
              "      <td>150000</td>\n",
              "      <td>120000</td>\n",
              "      <td>70000</td>\n",
              "      <td>340000</td>\n",
              "    </tr>\n",
              "    <tr>\n",
              "      <th>15</th>\n",
              "      <td>NaN</td>\n",
              "      <td>NaN</td>\n",
              "      <td>NaN</td>\n",
              "      <td>NaN</td>\n",
              "      <td></td>\n",
              "      <td>NaN</td>\n",
              "      <td>NaN</td>\n",
              "      <td>1462000</td>\n",
              "      <td>1507000</td>\n",
              "      <td>717000</td>\n",
              "      <td>3686000</td>\n",
              "    </tr>\n",
              "  </tbody>\n",
              "</table>\n",
              "</div>"
            ],
            "text/plain": [
              "     account                          name                    street  \\\n",
              "11  231907.0                    Hahn-Moore  18115 Olivine Throughway   \n",
              "12  242368.0  Frami, Anderson and Donnelly           182 Bertie Road   \n",
              "13  268755.0                   Walsh-Haley      2624 Beatty Parkways   \n",
              "14  273274.0                 McDermott PLC     8917 Bergstrom Meadow   \n",
              "15       NaN                           NaN                       NaN   \n",
              "\n",
              "               city        state  postal-code abbrev      Jan      Feb  \\\n",
              "11    Norbertomouth  NorthDakota      31415.0     ND   150000    10000   \n",
              "12      East Davian         Iowa      72686.0     IA   162000   120000   \n",
              "13     Goodwinmouth  RhodeIsland      31919.0     RI    55000   120000   \n",
              "14  Kathryneborough     Delaware      27933.0     DE   150000   120000   \n",
              "15              NaN                       NaN    NaN  1462000  1507000   \n",
              "\n",
              "       Mar    total  \n",
              "11  162000   322000  \n",
              "12   35000   317000  \n",
              "13   35000   210000  \n",
              "14   70000   340000  \n",
              "15  717000  3686000  "
            ]
          },
          "metadata": {
            "tags": []
          },
          "execution_count": 21
        }
      ]
    },
    {
      "metadata": {
        "id": "tPfYv7-b-XNr",
        "colab_type": "code",
        "colab": {
          "base_uri": "https://localhost:8080/",
          "height": 326
        },
        "outputId": "9077ac3b-05df-43aa-86a7-b73eafd68377"
      },
      "cell_type": "code",
      "source": [
        "# see the complete dataframe via print\n",
        "print(df_final.to_string())"
      ],
      "execution_count": 22,
      "outputs": [
        {
          "output_type": "stream",
          "text": [
            "     account                              name                                street               city          state  postal-code abbrev      Jan      Feb     Mar    total\n",
            "0   211829.0        Kerluke, Koepp and Hilpert                    34456 Sean Highway         New Jaycob          Texas      28752.0     TX    10000    62000   35000   107000\n",
            "1   320563.0                    Walter-Trantow                     1311 Alvis Tunnel      Port Khadijah  NorthCarolina      38365.0     NC    95000    45000   35000   175000\n",
            "2   648336.0        Bashirian, Kunde and Price  62184 Schamberger Underpass Apt. 231     New Lilianland           Iowa      76517.0     IA    91000   120000   35000   246000\n",
            "3   109996.0       D'Amore, Gleichner and Bode           155 Fadel Crescent Apt. 144         Hyattburgh          Maine      46021.0     ME    45000   120000   10000   175000\n",
            "4   121213.0                     Bauch-Goldner                   7274 Marissa Common    Shanahanchester     California      49681.0     CA   162000   120000   35000   317000\n",
            "5   132971.0  Williamson, Schumm and Hettinger                  89403 Casimer Spring       Jeremieburgh       Arkansas      62785.0     AR   150000   120000   35000   305000\n",
            "6   145068.0                        Casper LLC          340 Consuela Bridge Apt. 400  Lake Gabriellaton     Mississipi      18008.0     MS    62000   120000   70000   252000\n",
            "7   205217.0                  Kovacek-Johnston          91971 Cronin Vista Suite 601         Deronville    RhodeIsland      53461.0     RI   145000    95000   35000   275000\n",
            "8   209744.0                    Champlin-Morar                      26739 Grant Lock    Lake Juliannton   Pennsylvania      64415.0     PA    70000    95000   35000   200000\n",
            "9   212303.0                    Gerhold-Maggio             366 Maggio Grove Apt. 998          North Ras          Idaho      46308.0     ID    70000   120000   35000   225000\n",
            "10  214098.0       Goodwin, Homenick and Jerde             649 Cierra Forks Apt. 078           Rosaberg       Tenessee      47743.0     TN    45000   120000   55000   220000\n",
            "11  231907.0                        Hahn-Moore              18115 Olivine Throughway      Norbertomouth    NorthDakota      31415.0     ND   150000    10000  162000   322000\n",
            "12  242368.0      Frami, Anderson and Donnelly                       182 Bertie Road        East Davian           Iowa      72686.0     IA   162000   120000   35000   317000\n",
            "13  268755.0                       Walsh-Haley                  2624 Beatty Parkways       Goodwinmouth    RhodeIsland      31919.0     RI    55000   120000   35000   210000\n",
            "14  273274.0                     McDermott PLC                 8917 Bergstrom Meadow    Kathryneborough       Delaware      27933.0     DE   150000   120000   70000   340000\n",
            "15       NaN                               NaN                                   NaN                NaN                         NaN    NaN  1462000  1507000  717000  3686000\n"
          ],
          "name": "stdout"
        }
      ]
    },
    {
      "metadata": {
        "id": "8f9hkHbmjl5G",
        "colab_type": "text"
      },
      "cell_type": "markdown",
      "source": [
        "Adding subtotals to the table using the groupby function in pandas"
      ]
    },
    {
      "metadata": {
        "id": "vJJmwhuKjxUk",
        "colab_type": "code",
        "colab": {
          "base_uri": "https://localhost:8080/",
          "height": 483
        },
        "outputId": "54b5a7ba-02bd-4e3f-e94b-9c2e77b96b35"
      },
      "cell_type": "code",
      "source": [
        "df_sub = df_final[[\"abbrev\", \"Jan\", \"Feb\", \"Mar\", \"total\"]].groupby('abbrev').sum()\n",
        "df_sub"
      ],
      "execution_count": 23,
      "outputs": [
        {
          "output_type": "execute_result",
          "data": {
            "text/html": [
              "<div>\n",
              "<style scoped>\n",
              "    .dataframe tbody tr th:only-of-type {\n",
              "        vertical-align: middle;\n",
              "    }\n",
              "\n",
              "    .dataframe tbody tr th {\n",
              "        vertical-align: top;\n",
              "    }\n",
              "\n",
              "    .dataframe thead th {\n",
              "        text-align: right;\n",
              "    }\n",
              "</style>\n",
              "<table border=\"1\" class=\"dataframe\">\n",
              "  <thead>\n",
              "    <tr style=\"text-align: right;\">\n",
              "      <th></th>\n",
              "      <th>Jan</th>\n",
              "      <th>Feb</th>\n",
              "      <th>Mar</th>\n",
              "      <th>total</th>\n",
              "    </tr>\n",
              "    <tr>\n",
              "      <th>abbrev</th>\n",
              "      <th></th>\n",
              "      <th></th>\n",
              "      <th></th>\n",
              "      <th></th>\n",
              "    </tr>\n",
              "  </thead>\n",
              "  <tbody>\n",
              "    <tr>\n",
              "      <th>AR</th>\n",
              "      <td>150000</td>\n",
              "      <td>120000</td>\n",
              "      <td>35000</td>\n",
              "      <td>305000</td>\n",
              "    </tr>\n",
              "    <tr>\n",
              "      <th>CA</th>\n",
              "      <td>162000</td>\n",
              "      <td>120000</td>\n",
              "      <td>35000</td>\n",
              "      <td>317000</td>\n",
              "    </tr>\n",
              "    <tr>\n",
              "      <th>DE</th>\n",
              "      <td>150000</td>\n",
              "      <td>120000</td>\n",
              "      <td>70000</td>\n",
              "      <td>340000</td>\n",
              "    </tr>\n",
              "    <tr>\n",
              "      <th>IA</th>\n",
              "      <td>253000</td>\n",
              "      <td>240000</td>\n",
              "      <td>70000</td>\n",
              "      <td>563000</td>\n",
              "    </tr>\n",
              "    <tr>\n",
              "      <th>ID</th>\n",
              "      <td>70000</td>\n",
              "      <td>120000</td>\n",
              "      <td>35000</td>\n",
              "      <td>225000</td>\n",
              "    </tr>\n",
              "    <tr>\n",
              "      <th>ME</th>\n",
              "      <td>45000</td>\n",
              "      <td>120000</td>\n",
              "      <td>10000</td>\n",
              "      <td>175000</td>\n",
              "    </tr>\n",
              "    <tr>\n",
              "      <th>MS</th>\n",
              "      <td>62000</td>\n",
              "      <td>120000</td>\n",
              "      <td>70000</td>\n",
              "      <td>252000</td>\n",
              "    </tr>\n",
              "    <tr>\n",
              "      <th>NC</th>\n",
              "      <td>95000</td>\n",
              "      <td>45000</td>\n",
              "      <td>35000</td>\n",
              "      <td>175000</td>\n",
              "    </tr>\n",
              "    <tr>\n",
              "      <th>ND</th>\n",
              "      <td>150000</td>\n",
              "      <td>10000</td>\n",
              "      <td>162000</td>\n",
              "      <td>322000</td>\n",
              "    </tr>\n",
              "    <tr>\n",
              "      <th>PA</th>\n",
              "      <td>70000</td>\n",
              "      <td>95000</td>\n",
              "      <td>35000</td>\n",
              "      <td>200000</td>\n",
              "    </tr>\n",
              "    <tr>\n",
              "      <th>RI</th>\n",
              "      <td>200000</td>\n",
              "      <td>215000</td>\n",
              "      <td>70000</td>\n",
              "      <td>485000</td>\n",
              "    </tr>\n",
              "    <tr>\n",
              "      <th>TN</th>\n",
              "      <td>45000</td>\n",
              "      <td>120000</td>\n",
              "      <td>55000</td>\n",
              "      <td>220000</td>\n",
              "    </tr>\n",
              "    <tr>\n",
              "      <th>TX</th>\n",
              "      <td>10000</td>\n",
              "      <td>62000</td>\n",
              "      <td>35000</td>\n",
              "      <td>107000</td>\n",
              "    </tr>\n",
              "  </tbody>\n",
              "</table>\n",
              "</div>"
            ],
            "text/plain": [
              "           Jan     Feb     Mar   total\n",
              "abbrev                                \n",
              "AR      150000  120000   35000  305000\n",
              "CA      162000  120000   35000  317000\n",
              "DE      150000  120000   70000  340000\n",
              "IA      253000  240000   70000  563000\n",
              "ID       70000  120000   35000  225000\n",
              "ME       45000  120000   10000  175000\n",
              "MS       62000  120000   70000  252000\n",
              "NC       95000   45000   35000  175000\n",
              "ND      150000   10000  162000  322000\n",
              "PA       70000   95000   35000  200000\n",
              "RI      200000  215000   70000  485000\n",
              "TN       45000  120000   55000  220000\n",
              "TX       10000   62000   35000  107000"
            ]
          },
          "metadata": {
            "tags": []
          },
          "execution_count": 23
        }
      ]
    },
    {
      "metadata": {
        "id": "F17Brbg-kP2t",
        "colab_type": "code",
        "colab": {
          "base_uri": "https://localhost:8080/",
          "height": 483
        },
        "outputId": "590c4647-d081-4cc9-dd2f-d650cedc3d02"
      },
      "cell_type": "code",
      "source": [
        "# create a function to format column with specific format values\n",
        "def money(x):\n",
        "  return \"${:,.0f}\".format(x)\n",
        "\n",
        "formatted_df = df_sub.applymap(money)\n",
        "formatted_df"
      ],
      "execution_count": 25,
      "outputs": [
        {
          "output_type": "execute_result",
          "data": {
            "text/html": [
              "<div>\n",
              "<style scoped>\n",
              "    .dataframe tbody tr th:only-of-type {\n",
              "        vertical-align: middle;\n",
              "    }\n",
              "\n",
              "    .dataframe tbody tr th {\n",
              "        vertical-align: top;\n",
              "    }\n",
              "\n",
              "    .dataframe thead th {\n",
              "        text-align: right;\n",
              "    }\n",
              "</style>\n",
              "<table border=\"1\" class=\"dataframe\">\n",
              "  <thead>\n",
              "    <tr style=\"text-align: right;\">\n",
              "      <th></th>\n",
              "      <th>Jan</th>\n",
              "      <th>Feb</th>\n",
              "      <th>Mar</th>\n",
              "      <th>total</th>\n",
              "    </tr>\n",
              "    <tr>\n",
              "      <th>abbrev</th>\n",
              "      <th></th>\n",
              "      <th></th>\n",
              "      <th></th>\n",
              "      <th></th>\n",
              "    </tr>\n",
              "  </thead>\n",
              "  <tbody>\n",
              "    <tr>\n",
              "      <th>AR</th>\n",
              "      <td>$150,000</td>\n",
              "      <td>$120,000</td>\n",
              "      <td>$35,000</td>\n",
              "      <td>$305,000</td>\n",
              "    </tr>\n",
              "    <tr>\n",
              "      <th>CA</th>\n",
              "      <td>$162,000</td>\n",
              "      <td>$120,000</td>\n",
              "      <td>$35,000</td>\n",
              "      <td>$317,000</td>\n",
              "    </tr>\n",
              "    <tr>\n",
              "      <th>DE</th>\n",
              "      <td>$150,000</td>\n",
              "      <td>$120,000</td>\n",
              "      <td>$70,000</td>\n",
              "      <td>$340,000</td>\n",
              "    </tr>\n",
              "    <tr>\n",
              "      <th>IA</th>\n",
              "      <td>$253,000</td>\n",
              "      <td>$240,000</td>\n",
              "      <td>$70,000</td>\n",
              "      <td>$563,000</td>\n",
              "    </tr>\n",
              "    <tr>\n",
              "      <th>ID</th>\n",
              "      <td>$70,000</td>\n",
              "      <td>$120,000</td>\n",
              "      <td>$35,000</td>\n",
              "      <td>$225,000</td>\n",
              "    </tr>\n",
              "    <tr>\n",
              "      <th>ME</th>\n",
              "      <td>$45,000</td>\n",
              "      <td>$120,000</td>\n",
              "      <td>$10,000</td>\n",
              "      <td>$175,000</td>\n",
              "    </tr>\n",
              "    <tr>\n",
              "      <th>MS</th>\n",
              "      <td>$62,000</td>\n",
              "      <td>$120,000</td>\n",
              "      <td>$70,000</td>\n",
              "      <td>$252,000</td>\n",
              "    </tr>\n",
              "    <tr>\n",
              "      <th>NC</th>\n",
              "      <td>$95,000</td>\n",
              "      <td>$45,000</td>\n",
              "      <td>$35,000</td>\n",
              "      <td>$175,000</td>\n",
              "    </tr>\n",
              "    <tr>\n",
              "      <th>ND</th>\n",
              "      <td>$150,000</td>\n",
              "      <td>$10,000</td>\n",
              "      <td>$162,000</td>\n",
              "      <td>$322,000</td>\n",
              "    </tr>\n",
              "    <tr>\n",
              "      <th>PA</th>\n",
              "      <td>$70,000</td>\n",
              "      <td>$95,000</td>\n",
              "      <td>$35,000</td>\n",
              "      <td>$200,000</td>\n",
              "    </tr>\n",
              "    <tr>\n",
              "      <th>RI</th>\n",
              "      <td>$200,000</td>\n",
              "      <td>$215,000</td>\n",
              "      <td>$70,000</td>\n",
              "      <td>$485,000</td>\n",
              "    </tr>\n",
              "    <tr>\n",
              "      <th>TN</th>\n",
              "      <td>$45,000</td>\n",
              "      <td>$120,000</td>\n",
              "      <td>$55,000</td>\n",
              "      <td>$220,000</td>\n",
              "    </tr>\n",
              "    <tr>\n",
              "      <th>TX</th>\n",
              "      <td>$10,000</td>\n",
              "      <td>$62,000</td>\n",
              "      <td>$35,000</td>\n",
              "      <td>$107,000</td>\n",
              "    </tr>\n",
              "  </tbody>\n",
              "</table>\n",
              "</div>"
            ],
            "text/plain": [
              "             Jan       Feb       Mar     total\n",
              "abbrev                                        \n",
              "AR      $150,000  $120,000   $35,000  $305,000\n",
              "CA      $162,000  $120,000   $35,000  $317,000\n",
              "DE      $150,000  $120,000   $70,000  $340,000\n",
              "IA      $253,000  $240,000   $70,000  $563,000\n",
              "ID       $70,000  $120,000   $35,000  $225,000\n",
              "ME       $45,000  $120,000   $10,000  $175,000\n",
              "MS       $62,000  $120,000   $70,000  $252,000\n",
              "NC       $95,000   $45,000   $35,000  $175,000\n",
              "ND      $150,000   $10,000  $162,000  $322,000\n",
              "PA       $70,000   $95,000   $35,000  $200,000\n",
              "RI      $200,000  $215,000   $70,000  $485,000\n",
              "TN       $45,000  $120,000   $55,000  $220,000\n",
              "TX       $10,000   $62,000   $35,000  $107,000"
            ]
          },
          "metadata": {
            "tags": []
          },
          "execution_count": 25
        }
      ]
    },
    {
      "metadata": {
        "id": "9zrPmyFrlQnO",
        "colab_type": "code",
        "colab": {
          "base_uri": "https://localhost:8080/",
          "height": 102
        },
        "outputId": "7da33c94-3aea-450b-d688-10e9db524e66"
      },
      "cell_type": "code",
      "source": [
        "# create totals for the df_sub and convert to a new df format and append\n",
        "sum_row=df_sub[[\"Jan\",\"Feb\",\"Mar\",\"total\"]].sum()\n",
        "sum_row"
      ],
      "execution_count": 26,
      "outputs": [
        {
          "output_type": "execute_result",
          "data": {
            "text/plain": [
              "Jan      1462000\n",
              "Feb      1507000\n",
              "Mar       717000\n",
              "total    3686000\n",
              "dtype: int64"
            ]
          },
          "metadata": {
            "tags": []
          },
          "execution_count": 26
        }
      ]
    },
    {
      "metadata": {
        "id": "-1uskI8clSQp",
        "colab_type": "code",
        "colab": {
          "base_uri": "https://localhost:8080/",
          "height": 80
        },
        "outputId": "ab57f87e-79a1-4f8e-dbc6-d5010a44b9b5"
      },
      "cell_type": "code",
      "source": [
        "df_sub_sum=pd.DataFrame(data=sum_row).T\n",
        "df_sub_sum=df_sub_sum.applymap(money)\n",
        "df_sub_sum"
      ],
      "execution_count": 27,
      "outputs": [
        {
          "output_type": "execute_result",
          "data": {
            "text/html": [
              "<div>\n",
              "<style scoped>\n",
              "    .dataframe tbody tr th:only-of-type {\n",
              "        vertical-align: middle;\n",
              "    }\n",
              "\n",
              "    .dataframe tbody tr th {\n",
              "        vertical-align: top;\n",
              "    }\n",
              "\n",
              "    .dataframe thead th {\n",
              "        text-align: right;\n",
              "    }\n",
              "</style>\n",
              "<table border=\"1\" class=\"dataframe\">\n",
              "  <thead>\n",
              "    <tr style=\"text-align: right;\">\n",
              "      <th></th>\n",
              "      <th>Jan</th>\n",
              "      <th>Feb</th>\n",
              "      <th>Mar</th>\n",
              "      <th>total</th>\n",
              "    </tr>\n",
              "  </thead>\n",
              "  <tbody>\n",
              "    <tr>\n",
              "      <th>0</th>\n",
              "      <td>$1,462,000</td>\n",
              "      <td>$1,507,000</td>\n",
              "      <td>$717,000</td>\n",
              "      <td>$3,686,000</td>\n",
              "    </tr>\n",
              "  </tbody>\n",
              "</table>\n",
              "</div>"
            ],
            "text/plain": [
              "          Jan         Feb       Mar       total\n",
              "0  $1,462,000  $1,507,000  $717,000  $3,686,000"
            ]
          },
          "metadata": {
            "tags": []
          },
          "execution_count": 27
        }
      ]
    },
    {
      "metadata": {
        "id": "M6uYN35fliA9",
        "colab_type": "code",
        "colab": {
          "base_uri": "https://localhost:8080/",
          "height": 483
        },
        "outputId": "95506e9a-832a-4fcd-f177-968f358d9eb1"
      },
      "cell_type": "code",
      "source": [
        "final_table = formatted_df.append(df_sub_sum)\n",
        "final_table"
      ],
      "execution_count": 28,
      "outputs": [
        {
          "output_type": "execute_result",
          "data": {
            "text/html": [
              "<div>\n",
              "<style scoped>\n",
              "    .dataframe tbody tr th:only-of-type {\n",
              "        vertical-align: middle;\n",
              "    }\n",
              "\n",
              "    .dataframe tbody tr th {\n",
              "        vertical-align: top;\n",
              "    }\n",
              "\n",
              "    .dataframe thead th {\n",
              "        text-align: right;\n",
              "    }\n",
              "</style>\n",
              "<table border=\"1\" class=\"dataframe\">\n",
              "  <thead>\n",
              "    <tr style=\"text-align: right;\">\n",
              "      <th></th>\n",
              "      <th>Jan</th>\n",
              "      <th>Feb</th>\n",
              "      <th>Mar</th>\n",
              "      <th>total</th>\n",
              "    </tr>\n",
              "  </thead>\n",
              "  <tbody>\n",
              "    <tr>\n",
              "      <th>AR</th>\n",
              "      <td>$150,000</td>\n",
              "      <td>$120,000</td>\n",
              "      <td>$35,000</td>\n",
              "      <td>$305,000</td>\n",
              "    </tr>\n",
              "    <tr>\n",
              "      <th>CA</th>\n",
              "      <td>$162,000</td>\n",
              "      <td>$120,000</td>\n",
              "      <td>$35,000</td>\n",
              "      <td>$317,000</td>\n",
              "    </tr>\n",
              "    <tr>\n",
              "      <th>DE</th>\n",
              "      <td>$150,000</td>\n",
              "      <td>$120,000</td>\n",
              "      <td>$70,000</td>\n",
              "      <td>$340,000</td>\n",
              "    </tr>\n",
              "    <tr>\n",
              "      <th>IA</th>\n",
              "      <td>$253,000</td>\n",
              "      <td>$240,000</td>\n",
              "      <td>$70,000</td>\n",
              "      <td>$563,000</td>\n",
              "    </tr>\n",
              "    <tr>\n",
              "      <th>ID</th>\n",
              "      <td>$70,000</td>\n",
              "      <td>$120,000</td>\n",
              "      <td>$35,000</td>\n",
              "      <td>$225,000</td>\n",
              "    </tr>\n",
              "    <tr>\n",
              "      <th>ME</th>\n",
              "      <td>$45,000</td>\n",
              "      <td>$120,000</td>\n",
              "      <td>$10,000</td>\n",
              "      <td>$175,000</td>\n",
              "    </tr>\n",
              "    <tr>\n",
              "      <th>MS</th>\n",
              "      <td>$62,000</td>\n",
              "      <td>$120,000</td>\n",
              "      <td>$70,000</td>\n",
              "      <td>$252,000</td>\n",
              "    </tr>\n",
              "    <tr>\n",
              "      <th>NC</th>\n",
              "      <td>$95,000</td>\n",
              "      <td>$45,000</td>\n",
              "      <td>$35,000</td>\n",
              "      <td>$175,000</td>\n",
              "    </tr>\n",
              "    <tr>\n",
              "      <th>ND</th>\n",
              "      <td>$150,000</td>\n",
              "      <td>$10,000</td>\n",
              "      <td>$162,000</td>\n",
              "      <td>$322,000</td>\n",
              "    </tr>\n",
              "    <tr>\n",
              "      <th>PA</th>\n",
              "      <td>$70,000</td>\n",
              "      <td>$95,000</td>\n",
              "      <td>$35,000</td>\n",
              "      <td>$200,000</td>\n",
              "    </tr>\n",
              "    <tr>\n",
              "      <th>RI</th>\n",
              "      <td>$200,000</td>\n",
              "      <td>$215,000</td>\n",
              "      <td>$70,000</td>\n",
              "      <td>$485,000</td>\n",
              "    </tr>\n",
              "    <tr>\n",
              "      <th>TN</th>\n",
              "      <td>$45,000</td>\n",
              "      <td>$120,000</td>\n",
              "      <td>$55,000</td>\n",
              "      <td>$220,000</td>\n",
              "    </tr>\n",
              "    <tr>\n",
              "      <th>TX</th>\n",
              "      <td>$10,000</td>\n",
              "      <td>$62,000</td>\n",
              "      <td>$35,000</td>\n",
              "      <td>$107,000</td>\n",
              "    </tr>\n",
              "    <tr>\n",
              "      <th>0</th>\n",
              "      <td>$1,462,000</td>\n",
              "      <td>$1,507,000</td>\n",
              "      <td>$717,000</td>\n",
              "      <td>$3,686,000</td>\n",
              "    </tr>\n",
              "  </tbody>\n",
              "</table>\n",
              "</div>"
            ],
            "text/plain": [
              "           Jan         Feb       Mar       total\n",
              "AR    $150,000    $120,000   $35,000    $305,000\n",
              "CA    $162,000    $120,000   $35,000    $317,000\n",
              "DE    $150,000    $120,000   $70,000    $340,000\n",
              "IA    $253,000    $240,000   $70,000    $563,000\n",
              "ID     $70,000    $120,000   $35,000    $225,000\n",
              "ME     $45,000    $120,000   $10,000    $175,000\n",
              "MS     $62,000    $120,000   $70,000    $252,000\n",
              "NC     $95,000     $45,000   $35,000    $175,000\n",
              "ND    $150,000     $10,000  $162,000    $322,000\n",
              "PA     $70,000     $95,000   $35,000    $200,000\n",
              "RI    $200,000    $215,000   $70,000    $485,000\n",
              "TN     $45,000    $120,000   $55,000    $220,000\n",
              "TX     $10,000     $62,000   $35,000    $107,000\n",
              "0   $1,462,000  $1,507,000  $717,000  $3,686,000"
            ]
          },
          "metadata": {
            "tags": []
          },
          "execution_count": 28
        }
      ]
    },
    {
      "metadata": {
        "id": "7D-CFiZvlryT",
        "colab_type": "code",
        "colab": {
          "base_uri": "https://localhost:8080/",
          "height": 483
        },
        "outputId": "0c7631d3-365f-4afb-a04a-48477edddc62"
      },
      "cell_type": "code",
      "source": [
        "# rename in the index the 0 with total\n",
        "final_table = final_table.rename(index={0:\"Total\"})\n",
        "final_table"
      ],
      "execution_count": 29,
      "outputs": [
        {
          "output_type": "execute_result",
          "data": {
            "text/html": [
              "<div>\n",
              "<style scoped>\n",
              "    .dataframe tbody tr th:only-of-type {\n",
              "        vertical-align: middle;\n",
              "    }\n",
              "\n",
              "    .dataframe tbody tr th {\n",
              "        vertical-align: top;\n",
              "    }\n",
              "\n",
              "    .dataframe thead th {\n",
              "        text-align: right;\n",
              "    }\n",
              "</style>\n",
              "<table border=\"1\" class=\"dataframe\">\n",
              "  <thead>\n",
              "    <tr style=\"text-align: right;\">\n",
              "      <th></th>\n",
              "      <th>Jan</th>\n",
              "      <th>Feb</th>\n",
              "      <th>Mar</th>\n",
              "      <th>total</th>\n",
              "    </tr>\n",
              "  </thead>\n",
              "  <tbody>\n",
              "    <tr>\n",
              "      <th>AR</th>\n",
              "      <td>$150,000</td>\n",
              "      <td>$120,000</td>\n",
              "      <td>$35,000</td>\n",
              "      <td>$305,000</td>\n",
              "    </tr>\n",
              "    <tr>\n",
              "      <th>CA</th>\n",
              "      <td>$162,000</td>\n",
              "      <td>$120,000</td>\n",
              "      <td>$35,000</td>\n",
              "      <td>$317,000</td>\n",
              "    </tr>\n",
              "    <tr>\n",
              "      <th>DE</th>\n",
              "      <td>$150,000</td>\n",
              "      <td>$120,000</td>\n",
              "      <td>$70,000</td>\n",
              "      <td>$340,000</td>\n",
              "    </tr>\n",
              "    <tr>\n",
              "      <th>IA</th>\n",
              "      <td>$253,000</td>\n",
              "      <td>$240,000</td>\n",
              "      <td>$70,000</td>\n",
              "      <td>$563,000</td>\n",
              "    </tr>\n",
              "    <tr>\n",
              "      <th>ID</th>\n",
              "      <td>$70,000</td>\n",
              "      <td>$120,000</td>\n",
              "      <td>$35,000</td>\n",
              "      <td>$225,000</td>\n",
              "    </tr>\n",
              "    <tr>\n",
              "      <th>ME</th>\n",
              "      <td>$45,000</td>\n",
              "      <td>$120,000</td>\n",
              "      <td>$10,000</td>\n",
              "      <td>$175,000</td>\n",
              "    </tr>\n",
              "    <tr>\n",
              "      <th>MS</th>\n",
              "      <td>$62,000</td>\n",
              "      <td>$120,000</td>\n",
              "      <td>$70,000</td>\n",
              "      <td>$252,000</td>\n",
              "    </tr>\n",
              "    <tr>\n",
              "      <th>NC</th>\n",
              "      <td>$95,000</td>\n",
              "      <td>$45,000</td>\n",
              "      <td>$35,000</td>\n",
              "      <td>$175,000</td>\n",
              "    </tr>\n",
              "    <tr>\n",
              "      <th>ND</th>\n",
              "      <td>$150,000</td>\n",
              "      <td>$10,000</td>\n",
              "      <td>$162,000</td>\n",
              "      <td>$322,000</td>\n",
              "    </tr>\n",
              "    <tr>\n",
              "      <th>PA</th>\n",
              "      <td>$70,000</td>\n",
              "      <td>$95,000</td>\n",
              "      <td>$35,000</td>\n",
              "      <td>$200,000</td>\n",
              "    </tr>\n",
              "    <tr>\n",
              "      <th>RI</th>\n",
              "      <td>$200,000</td>\n",
              "      <td>$215,000</td>\n",
              "      <td>$70,000</td>\n",
              "      <td>$485,000</td>\n",
              "    </tr>\n",
              "    <tr>\n",
              "      <th>TN</th>\n",
              "      <td>$45,000</td>\n",
              "      <td>$120,000</td>\n",
              "      <td>$55,000</td>\n",
              "      <td>$220,000</td>\n",
              "    </tr>\n",
              "    <tr>\n",
              "      <th>TX</th>\n",
              "      <td>$10,000</td>\n",
              "      <td>$62,000</td>\n",
              "      <td>$35,000</td>\n",
              "      <td>$107,000</td>\n",
              "    </tr>\n",
              "    <tr>\n",
              "      <th>Total</th>\n",
              "      <td>$1,462,000</td>\n",
              "      <td>$1,507,000</td>\n",
              "      <td>$717,000</td>\n",
              "      <td>$3,686,000</td>\n",
              "    </tr>\n",
              "  </tbody>\n",
              "</table>\n",
              "</div>"
            ],
            "text/plain": [
              "              Jan         Feb       Mar       total\n",
              "AR       $150,000    $120,000   $35,000    $305,000\n",
              "CA       $162,000    $120,000   $35,000    $317,000\n",
              "DE       $150,000    $120,000   $70,000    $340,000\n",
              "IA       $253,000    $240,000   $70,000    $563,000\n",
              "ID        $70,000    $120,000   $35,000    $225,000\n",
              "ME        $45,000    $120,000   $10,000    $175,000\n",
              "MS        $62,000    $120,000   $70,000    $252,000\n",
              "NC        $95,000     $45,000   $35,000    $175,000\n",
              "ND       $150,000     $10,000  $162,000    $322,000\n",
              "PA        $70,000     $95,000   $35,000    $200,000\n",
              "RI       $200,000    $215,000   $70,000    $485,000\n",
              "TN        $45,000    $120,000   $55,000    $220,000\n",
              "TX        $10,000     $62,000   $35,000    $107,000\n",
              "Total  $1,462,000  $1,507,000  $717,000  $3,686,000"
            ]
          },
          "metadata": {
            "tags": []
          },
          "execution_count": 29
        }
      ]
    },
    {
      "metadata": {
        "id": "_s-FGuTAmCPJ",
        "colab_type": "text"
      },
      "cell_type": "markdown",
      "source": [
        "Common Excel Tasks Demonstrated in Pandas - Part 2\n",
        "http://pbpython.com/excel-pandas-comp-2.html\n",
        "File: sample-salesv3.xlsx\n",
        "Colab: Python3"
      ]
    },
    {
      "metadata": {
        "id": "Je96KeLImLcr",
        "colab_type": "code",
        "colab": {
          "resources": {
            "http://localhost:8080/nbextensions/google.colab/files.js": {
              "data": "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",
              "ok": true,
              "headers": [
                [
                  "content-type",
                  "application/javascript"
                ]
              ],
              "status": 200,
              "status_text": ""
            }
          },
          "base_uri": "https://localhost:8080/",
          "height": 69
        },
        "outputId": "9e5a0f58-544f-4a46-da78-432acf7c28e9"
      },
      "cell_type": "code",
      "source": [
        "import pandas as pd\n",
        "import numpy as np\n",
        "# read new xls file \"sample-salesv3.xlsx\"\n",
        "from google.colab import files\n",
        "uploaded = files.upload()"
      ],
      "execution_count": 4,
      "outputs": [
        {
          "output_type": "display_data",
          "data": {
            "text/html": [
              "\n",
              "     <input type=\"file\" id=\"files-292450d7-f743-4bd6-8aa7-ad2f3cde0f94\" name=\"files[]\" multiple disabled />\n",
              "     <output id=\"result-292450d7-f743-4bd6-8aa7-ad2f3cde0f94\">\n",
              "      Upload widget is only available when the cell has been executed in the\n",
              "      current browser session. Please rerun this cell to enable.\n",
              "      </output>\n",
              "      <script src=\"/nbextensions/google.colab/files.js\"></script> "
            ],
            "text/plain": [
              "<IPython.core.display.HTML object>"
            ]
          },
          "metadata": {
            "tags": []
          }
        },
        {
          "output_type": "stream",
          "text": [
            "Saving sample-salesv3.xlsx to sample-salesv3.xlsx\n"
          ],
          "name": "stdout"
        }
      ]
    },
    {
      "metadata": {
        "id": "yaQSN5E6mn3w",
        "colab_type": "code",
        "colab": {
          "base_uri": "https://localhost:8080/",
          "height": 204
        },
        "outputId": "e45a08d5-23fa-4d7e-c16d-0dce9bcfc411"
      },
      "cell_type": "code",
      "source": [
        "# store the file into a dataframe\n",
        "import io\n",
        "df = pd.read_excel(io.BytesIO(uploaded['sample-salesv3.xlsx']))\n",
        "df.head()"
      ],
      "execution_count": 5,
      "outputs": [
        {
          "output_type": "execute_result",
          "data": {
            "text/html": [
              "<div>\n",
              "<style scoped>\n",
              "    .dataframe tbody tr th:only-of-type {\n",
              "        vertical-align: middle;\n",
              "    }\n",
              "\n",
              "    .dataframe tbody tr th {\n",
              "        vertical-align: top;\n",
              "    }\n",
              "\n",
              "    .dataframe thead th {\n",
              "        text-align: right;\n",
              "    }\n",
              "</style>\n",
              "<table border=\"1\" class=\"dataframe\">\n",
              "  <thead>\n",
              "    <tr style=\"text-align: right;\">\n",
              "      <th></th>\n",
              "      <th>account number</th>\n",
              "      <th>name</th>\n",
              "      <th>sku</th>\n",
              "      <th>quantity</th>\n",
              "      <th>unit price</th>\n",
              "      <th>ext price</th>\n",
              "      <th>date</th>\n",
              "    </tr>\n",
              "  </thead>\n",
              "  <tbody>\n",
              "    <tr>\n",
              "      <th>0</th>\n",
              "      <td>740150</td>\n",
              "      <td>Barton LLC</td>\n",
              "      <td>B1-20000</td>\n",
              "      <td>39</td>\n",
              "      <td>86.69</td>\n",
              "      <td>3380.91</td>\n",
              "      <td>2014-01-01 07:21:51</td>\n",
              "    </tr>\n",
              "    <tr>\n",
              "      <th>1</th>\n",
              "      <td>714466</td>\n",
              "      <td>Trantow-Barrows</td>\n",
              "      <td>S2-77896</td>\n",
              "      <td>-1</td>\n",
              "      <td>63.16</td>\n",
              "      <td>-63.16</td>\n",
              "      <td>2014-01-01 10:00:47</td>\n",
              "    </tr>\n",
              "    <tr>\n",
              "      <th>2</th>\n",
              "      <td>218895</td>\n",
              "      <td>Kulas Inc</td>\n",
              "      <td>B1-69924</td>\n",
              "      <td>23</td>\n",
              "      <td>90.70</td>\n",
              "      <td>2086.10</td>\n",
              "      <td>2014-01-01 13:24:58</td>\n",
              "    </tr>\n",
              "    <tr>\n",
              "      <th>3</th>\n",
              "      <td>307599</td>\n",
              "      <td>Kassulke, Ondricka and Metz</td>\n",
              "      <td>S1-65481</td>\n",
              "      <td>41</td>\n",
              "      <td>21.05</td>\n",
              "      <td>863.05</td>\n",
              "      <td>2014-01-01 15:05:22</td>\n",
              "    </tr>\n",
              "    <tr>\n",
              "      <th>4</th>\n",
              "      <td>412290</td>\n",
              "      <td>Jerde-Hilpert</td>\n",
              "      <td>S2-34077</td>\n",
              "      <td>6</td>\n",
              "      <td>83.21</td>\n",
              "      <td>499.26</td>\n",
              "      <td>2014-01-01 23:26:55</td>\n",
              "    </tr>\n",
              "  </tbody>\n",
              "</table>\n",
              "</div>"
            ],
            "text/plain": [
              "   account number                         name       sku  quantity  \\\n",
              "0          740150                   Barton LLC  B1-20000        39   \n",
              "1          714466              Trantow-Barrows  S2-77896        -1   \n",
              "2          218895                    Kulas Inc  B1-69924        23   \n",
              "3          307599  Kassulke, Ondricka and Metz  S1-65481        41   \n",
              "4          412290                Jerde-Hilpert  S2-34077         6   \n",
              "\n",
              "   unit price  ext price                 date  \n",
              "0       86.69    3380.91  2014-01-01 07:21:51  \n",
              "1       63.16     -63.16  2014-01-01 10:00:47  \n",
              "2       90.70    2086.10  2014-01-01 13:24:58  \n",
              "3       21.05     863.05  2014-01-01 15:05:22  \n",
              "4       83.21     499.26  2014-01-01 23:26:55  "
            ]
          },
          "metadata": {
            "tags": []
          },
          "execution_count": 5
        }
      ]
    },
    {
      "metadata": {
        "id": "N1aDtavZmxJb",
        "colab_type": "code",
        "colab": {
          "base_uri": "https://localhost:8080/",
          "height": 153
        },
        "outputId": "3276d4c1-38cc-4876-b525-b7ec4f788cb4"
      },
      "cell_type": "code",
      "source": [
        "# check the different datatypes\n",
        "df.dtypes"
      ],
      "execution_count": 32,
      "outputs": [
        {
          "output_type": "execute_result",
          "data": {
            "text/plain": [
              "account number      int64\n",
              "name               object\n",
              "sku                object\n",
              "quantity            int64\n",
              "unit price        float64\n",
              "ext price         float64\n",
              "date               object\n",
              "dtype: object"
            ]
          },
          "metadata": {
            "tags": []
          },
          "execution_count": 32
        }
      ]
    },
    {
      "metadata": {
        "id": "u-Jva8jEm9mV",
        "colab_type": "code",
        "colab": {
          "base_uri": "https://localhost:8080/",
          "height": 204
        },
        "outputId": "7fcd1d7c-71ba-45ac-eada-38b8d9aeb89b"
      },
      "cell_type": "code",
      "source": [
        "# convert data which is type object into datetime\n",
        "df['date'] = pd.to_datetime(df['date'])\n",
        "df.head()"
      ],
      "execution_count": 6,
      "outputs": [
        {
          "output_type": "execute_result",
          "data": {
            "text/html": [
              "<div>\n",
              "<style scoped>\n",
              "    .dataframe tbody tr th:only-of-type {\n",
              "        vertical-align: middle;\n",
              "    }\n",
              "\n",
              "    .dataframe tbody tr th {\n",
              "        vertical-align: top;\n",
              "    }\n",
              "\n",
              "    .dataframe thead th {\n",
              "        text-align: right;\n",
              "    }\n",
              "</style>\n",
              "<table border=\"1\" class=\"dataframe\">\n",
              "  <thead>\n",
              "    <tr style=\"text-align: right;\">\n",
              "      <th></th>\n",
              "      <th>account number</th>\n",
              "      <th>name</th>\n",
              "      <th>sku</th>\n",
              "      <th>quantity</th>\n",
              "      <th>unit price</th>\n",
              "      <th>ext price</th>\n",
              "      <th>date</th>\n",
              "    </tr>\n",
              "  </thead>\n",
              "  <tbody>\n",
              "    <tr>\n",
              "      <th>0</th>\n",
              "      <td>740150</td>\n",
              "      <td>Barton LLC</td>\n",
              "      <td>B1-20000</td>\n",
              "      <td>39</td>\n",
              "      <td>86.69</td>\n",
              "      <td>3380.91</td>\n",
              "      <td>2014-01-01 07:21:51</td>\n",
              "    </tr>\n",
              "    <tr>\n",
              "      <th>1</th>\n",
              "      <td>714466</td>\n",
              "      <td>Trantow-Barrows</td>\n",
              "      <td>S2-77896</td>\n",
              "      <td>-1</td>\n",
              "      <td>63.16</td>\n",
              "      <td>-63.16</td>\n",
              "      <td>2014-01-01 10:00:47</td>\n",
              "    </tr>\n",
              "    <tr>\n",
              "      <th>2</th>\n",
              "      <td>218895</td>\n",
              "      <td>Kulas Inc</td>\n",
              "      <td>B1-69924</td>\n",
              "      <td>23</td>\n",
              "      <td>90.70</td>\n",
              "      <td>2086.10</td>\n",
              "      <td>2014-01-01 13:24:58</td>\n",
              "    </tr>\n",
              "    <tr>\n",
              "      <th>3</th>\n",
              "      <td>307599</td>\n",
              "      <td>Kassulke, Ondricka and Metz</td>\n",
              "      <td>S1-65481</td>\n",
              "      <td>41</td>\n",
              "      <td>21.05</td>\n",
              "      <td>863.05</td>\n",
              "      <td>2014-01-01 15:05:22</td>\n",
              "    </tr>\n",
              "    <tr>\n",
              "      <th>4</th>\n",
              "      <td>412290</td>\n",
              "      <td>Jerde-Hilpert</td>\n",
              "      <td>S2-34077</td>\n",
              "      <td>6</td>\n",
              "      <td>83.21</td>\n",
              "      <td>499.26</td>\n",
              "      <td>2014-01-01 23:26:55</td>\n",
              "    </tr>\n",
              "  </tbody>\n",
              "</table>\n",
              "</div>"
            ],
            "text/plain": [
              "   account number                         name       sku  quantity  \\\n",
              "0          740150                   Barton LLC  B1-20000        39   \n",
              "1          714466              Trantow-Barrows  S2-77896        -1   \n",
              "2          218895                    Kulas Inc  B1-69924        23   \n",
              "3          307599  Kassulke, Ondricka and Metz  S1-65481        41   \n",
              "4          412290                Jerde-Hilpert  S2-34077         6   \n",
              "\n",
              "   unit price  ext price                date  \n",
              "0       86.69    3380.91 2014-01-01 07:21:51  \n",
              "1       63.16     -63.16 2014-01-01 10:00:47  \n",
              "2       90.70    2086.10 2014-01-01 13:24:58  \n",
              "3       21.05     863.05 2014-01-01 15:05:22  \n",
              "4       83.21     499.26 2014-01-01 23:26:55  "
            ]
          },
          "metadata": {
            "tags": []
          },
          "execution_count": 6
        }
      ]
    },
    {
      "metadata": {
        "id": "jE29zjyDnLgx",
        "colab_type": "code",
        "colab": {
          "base_uri": "https://localhost:8080/",
          "height": 153
        },
        "outputId": "1277d733-03ef-4a9f-ca7e-2584b5a494e7"
      },
      "cell_type": "code",
      "source": [
        "df.dtypes"
      ],
      "execution_count": 34,
      "outputs": [
        {
          "output_type": "execute_result",
          "data": {
            "text/plain": [
              "account number             int64\n",
              "name                      object\n",
              "sku                       object\n",
              "quantity                   int64\n",
              "unit price               float64\n",
              "ext price                float64\n",
              "date              datetime64[ns]\n",
              "dtype: object"
            ]
          },
          "metadata": {
            "tags": []
          },
          "execution_count": 34
        }
      ]
    },
    {
      "metadata": {
        "id": "i-5_T-pXnass",
        "colab_type": "code",
        "colab": {
          "base_uri": "https://localhost:8080/",
          "height": 204
        },
        "outputId": "fc049775-60e2-45c7-ed84-5c53a03c3d77"
      },
      "cell_type": "code",
      "source": [
        "# filter the dataframe by a specific colum and value\n",
        "df[df[\"account number\"]==307599].head()"
      ],
      "execution_count": 35,
      "outputs": [
        {
          "output_type": "execute_result",
          "data": {
            "text/html": [
              "<div>\n",
              "<style scoped>\n",
              "    .dataframe tbody tr th:only-of-type {\n",
              "        vertical-align: middle;\n",
              "    }\n",
              "\n",
              "    .dataframe tbody tr th {\n",
              "        vertical-align: top;\n",
              "    }\n",
              "\n",
              "    .dataframe thead th {\n",
              "        text-align: right;\n",
              "    }\n",
              "</style>\n",
              "<table border=\"1\" class=\"dataframe\">\n",
              "  <thead>\n",
              "    <tr style=\"text-align: right;\">\n",
              "      <th></th>\n",
              "      <th>account number</th>\n",
              "      <th>name</th>\n",
              "      <th>sku</th>\n",
              "      <th>quantity</th>\n",
              "      <th>unit price</th>\n",
              "      <th>ext price</th>\n",
              "      <th>date</th>\n",
              "    </tr>\n",
              "  </thead>\n",
              "  <tbody>\n",
              "    <tr>\n",
              "      <th>3</th>\n",
              "      <td>307599</td>\n",
              "      <td>Kassulke, Ondricka and Metz</td>\n",
              "      <td>S1-65481</td>\n",
              "      <td>41</td>\n",
              "      <td>21.05</td>\n",
              "      <td>863.05</td>\n",
              "      <td>2014-01-01 15:05:22</td>\n",
              "    </tr>\n",
              "    <tr>\n",
              "      <th>13</th>\n",
              "      <td>307599</td>\n",
              "      <td>Kassulke, Ondricka and Metz</td>\n",
              "      <td>S2-10342</td>\n",
              "      <td>17</td>\n",
              "      <td>12.44</td>\n",
              "      <td>211.48</td>\n",
              "      <td>2014-01-04 07:53:01</td>\n",
              "    </tr>\n",
              "    <tr>\n",
              "      <th>34</th>\n",
              "      <td>307599</td>\n",
              "      <td>Kassulke, Ondricka and Metz</td>\n",
              "      <td>S2-78676</td>\n",
              "      <td>35</td>\n",
              "      <td>33.04</td>\n",
              "      <td>1156.40</td>\n",
              "      <td>2014-01-10 05:26:31</td>\n",
              "    </tr>\n",
              "    <tr>\n",
              "      <th>58</th>\n",
              "      <td>307599</td>\n",
              "      <td>Kassulke, Ondricka and Metz</td>\n",
              "      <td>B1-20000</td>\n",
              "      <td>22</td>\n",
              "      <td>37.87</td>\n",
              "      <td>833.14</td>\n",
              "      <td>2014-01-15 16:22:22</td>\n",
              "    </tr>\n",
              "    <tr>\n",
              "      <th>70</th>\n",
              "      <td>307599</td>\n",
              "      <td>Kassulke, Ondricka and Metz</td>\n",
              "      <td>S2-10342</td>\n",
              "      <td>44</td>\n",
              "      <td>96.79</td>\n",
              "      <td>4258.76</td>\n",
              "      <td>2014-01-18 06:32:31</td>\n",
              "    </tr>\n",
              "  </tbody>\n",
              "</table>\n",
              "</div>"
            ],
            "text/plain": [
              "    account number                         name       sku  quantity  \\\n",
              "3           307599  Kassulke, Ondricka and Metz  S1-65481        41   \n",
              "13          307599  Kassulke, Ondricka and Metz  S2-10342        17   \n",
              "34          307599  Kassulke, Ondricka and Metz  S2-78676        35   \n",
              "58          307599  Kassulke, Ondricka and Metz  B1-20000        22   \n",
              "70          307599  Kassulke, Ondricka and Metz  S2-10342        44   \n",
              "\n",
              "    unit price  ext price                date  \n",
              "3        21.05     863.05 2014-01-01 15:05:22  \n",
              "13       12.44     211.48 2014-01-04 07:53:01  \n",
              "34       33.04    1156.40 2014-01-10 05:26:31  \n",
              "58       37.87     833.14 2014-01-15 16:22:22  \n",
              "70       96.79    4258.76 2014-01-18 06:32:31  "
            ]
          },
          "metadata": {
            "tags": []
          },
          "execution_count": 35
        }
      ]
    },
    {
      "metadata": {
        "id": "gjaPX5H_nogH",
        "colab_type": "code",
        "colab": {
          "base_uri": "https://localhost:8080/",
          "height": 204
        },
        "outputId": "92e7e22f-29b5-4539-a593-c7838c245718"
      },
      "cell_type": "code",
      "source": [
        "# filter a column with numberic values\n",
        "df[df[\"quantity\"] > 22].head()"
      ],
      "execution_count": 36,
      "outputs": [
        {
          "output_type": "execute_result",
          "data": {
            "text/html": [
              "<div>\n",
              "<style scoped>\n",
              "    .dataframe tbody tr th:only-of-type {\n",
              "        vertical-align: middle;\n",
              "    }\n",
              "\n",
              "    .dataframe tbody tr th {\n",
              "        vertical-align: top;\n",
              "    }\n",
              "\n",
              "    .dataframe thead th {\n",
              "        text-align: right;\n",
              "    }\n",
              "</style>\n",
              "<table border=\"1\" class=\"dataframe\">\n",
              "  <thead>\n",
              "    <tr style=\"text-align: right;\">\n",
              "      <th></th>\n",
              "      <th>account number</th>\n",
              "      <th>name</th>\n",
              "      <th>sku</th>\n",
              "      <th>quantity</th>\n",
              "      <th>unit price</th>\n",
              "      <th>ext price</th>\n",
              "      <th>date</th>\n",
              "    </tr>\n",
              "  </thead>\n",
              "  <tbody>\n",
              "    <tr>\n",
              "      <th>0</th>\n",
              "      <td>740150</td>\n",
              "      <td>Barton LLC</td>\n",
              "      <td>B1-20000</td>\n",
              "      <td>39</td>\n",
              "      <td>86.69</td>\n",
              "      <td>3380.91</td>\n",
              "      <td>2014-01-01 07:21:51</td>\n",
              "    </tr>\n",
              "    <tr>\n",
              "      <th>2</th>\n",
              "      <td>218895</td>\n",
              "      <td>Kulas Inc</td>\n",
              "      <td>B1-69924</td>\n",
              "      <td>23</td>\n",
              "      <td>90.70</td>\n",
              "      <td>2086.10</td>\n",
              "      <td>2014-01-01 13:24:58</td>\n",
              "    </tr>\n",
              "    <tr>\n",
              "      <th>3</th>\n",
              "      <td>307599</td>\n",
              "      <td>Kassulke, Ondricka and Metz</td>\n",
              "      <td>S1-65481</td>\n",
              "      <td>41</td>\n",
              "      <td>21.05</td>\n",
              "      <td>863.05</td>\n",
              "      <td>2014-01-01 15:05:22</td>\n",
              "    </tr>\n",
              "    <tr>\n",
              "      <th>14</th>\n",
              "      <td>737550</td>\n",
              "      <td>Fritsch, Russel and Anderson</td>\n",
              "      <td>B1-53102</td>\n",
              "      <td>23</td>\n",
              "      <td>71.56</td>\n",
              "      <td>1645.88</td>\n",
              "      <td>2014-01-04 08:57:48</td>\n",
              "    </tr>\n",
              "    <tr>\n",
              "      <th>15</th>\n",
              "      <td>239344</td>\n",
              "      <td>Stokes LLC</td>\n",
              "      <td>S1-06532</td>\n",
              "      <td>34</td>\n",
              "      <td>71.51</td>\n",
              "      <td>2431.34</td>\n",
              "      <td>2014-01-04 11:34:58</td>\n",
              "    </tr>\n",
              "  </tbody>\n",
              "</table>\n",
              "</div>"
            ],
            "text/plain": [
              "    account number                          name       sku  quantity  \\\n",
              "0           740150                    Barton LLC  B1-20000        39   \n",
              "2           218895                     Kulas Inc  B1-69924        23   \n",
              "3           307599   Kassulke, Ondricka and Metz  S1-65481        41   \n",
              "14          737550  Fritsch, Russel and Anderson  B1-53102        23   \n",
              "15          239344                    Stokes LLC  S1-06532        34   \n",
              "\n",
              "    unit price  ext price                date  \n",
              "0        86.69    3380.91 2014-01-01 07:21:51  \n",
              "2        90.70    2086.10 2014-01-01 13:24:58  \n",
              "3        21.05     863.05 2014-01-01 15:05:22  \n",
              "14       71.56    1645.88 2014-01-04 08:57:48  \n",
              "15       71.51    2431.34 2014-01-04 11:34:58  "
            ]
          },
          "metadata": {
            "tags": []
          },
          "execution_count": 36
        }
      ]
    },
    {
      "metadata": {
        "id": "uomXpK0Mn3eN",
        "colab_type": "code",
        "colab": {
          "base_uri": "https://localhost:8080/",
          "height": 204
        },
        "outputId": "da7b7727-4a90-4aa5-fd52-6946a1ea1dfb"
      },
      "cell_type": "code",
      "source": [
        "# using map and lambda provides a reach filterign and mapping\n",
        "df[df[\"sku\"].map(lambda x: x.startswith('B1'))].head()"
      ],
      "execution_count": 37,
      "outputs": [
        {
          "output_type": "execute_result",
          "data": {
            "text/html": [
              "<div>\n",
              "<style scoped>\n",
              "    .dataframe tbody tr th:only-of-type {\n",
              "        vertical-align: middle;\n",
              "    }\n",
              "\n",
              "    .dataframe tbody tr th {\n",
              "        vertical-align: top;\n",
              "    }\n",
              "\n",
              "    .dataframe thead th {\n",
              "        text-align: right;\n",
              "    }\n",
              "</style>\n",
              "<table border=\"1\" class=\"dataframe\">\n",
              "  <thead>\n",
              "    <tr style=\"text-align: right;\">\n",
              "      <th></th>\n",
              "      <th>account number</th>\n",
              "      <th>name</th>\n",
              "      <th>sku</th>\n",
              "      <th>quantity</th>\n",
              "      <th>unit price</th>\n",
              "      <th>ext price</th>\n",
              "      <th>date</th>\n",
              "    </tr>\n",
              "  </thead>\n",
              "  <tbody>\n",
              "    <tr>\n",
              "      <th>0</th>\n",
              "      <td>740150</td>\n",
              "      <td>Barton LLC</td>\n",
              "      <td>B1-20000</td>\n",
              "      <td>39</td>\n",
              "      <td>86.69</td>\n",
              "      <td>3380.91</td>\n",
              "      <td>2014-01-01 07:21:51</td>\n",
              "    </tr>\n",
              "    <tr>\n",
              "      <th>2</th>\n",
              "      <td>218895</td>\n",
              "      <td>Kulas Inc</td>\n",
              "      <td>B1-69924</td>\n",
              "      <td>23</td>\n",
              "      <td>90.70</td>\n",
              "      <td>2086.10</td>\n",
              "      <td>2014-01-01 13:24:58</td>\n",
              "    </tr>\n",
              "    <tr>\n",
              "      <th>6</th>\n",
              "      <td>218895</td>\n",
              "      <td>Kulas Inc</td>\n",
              "      <td>B1-65551</td>\n",
              "      <td>2</td>\n",
              "      <td>31.10</td>\n",
              "      <td>62.20</td>\n",
              "      <td>2014-01-02 10:57:23</td>\n",
              "    </tr>\n",
              "    <tr>\n",
              "      <th>14</th>\n",
              "      <td>737550</td>\n",
              "      <td>Fritsch, Russel and Anderson</td>\n",
              "      <td>B1-53102</td>\n",
              "      <td>23</td>\n",
              "      <td>71.56</td>\n",
              "      <td>1645.88</td>\n",
              "      <td>2014-01-04 08:57:48</td>\n",
              "    </tr>\n",
              "    <tr>\n",
              "      <th>17</th>\n",
              "      <td>239344</td>\n",
              "      <td>Stokes LLC</td>\n",
              "      <td>B1-50809</td>\n",
              "      <td>14</td>\n",
              "      <td>16.23</td>\n",
              "      <td>227.22</td>\n",
              "      <td>2014-01-04 22:14:32</td>\n",
              "    </tr>\n",
              "  </tbody>\n",
              "</table>\n",
              "</div>"
            ],
            "text/plain": [
              "    account number                          name       sku  quantity  \\\n",
              "0           740150                    Barton LLC  B1-20000        39   \n",
              "2           218895                     Kulas Inc  B1-69924        23   \n",
              "6           218895                     Kulas Inc  B1-65551         2   \n",
              "14          737550  Fritsch, Russel and Anderson  B1-53102        23   \n",
              "17          239344                    Stokes LLC  B1-50809        14   \n",
              "\n",
              "    unit price  ext price                date  \n",
              "0        86.69    3380.91 2014-01-01 07:21:51  \n",
              "2        90.70    2086.10 2014-01-01 13:24:58  \n",
              "6        31.10      62.20 2014-01-02 10:57:23  \n",
              "14       71.56    1645.88 2014-01-04 08:57:48  \n",
              "17       16.23     227.22 2014-01-04 22:14:32  "
            ]
          },
          "metadata": {
            "tags": []
          },
          "execution_count": 37
        }
      ]
    },
    {
      "metadata": {
        "id": "fqeW078xpp87",
        "colab_type": "code",
        "colab": {
          "base_uri": "https://localhost:8080/",
          "height": 204
        },
        "outputId": "67ea15ff-55f3-4a72-96e5-a86160b4327f"
      },
      "cell_type": "code",
      "source": [
        "df[df[\"sku\"].map(lambda x: x.startswith('B1')) & (df[\"quantity\"] > 22)].head()"
      ],
      "execution_count": 38,
      "outputs": [
        {
          "output_type": "execute_result",
          "data": {
            "text/html": [
              "<div>\n",
              "<style scoped>\n",
              "    .dataframe tbody tr th:only-of-type {\n",
              "        vertical-align: middle;\n",
              "    }\n",
              "\n",
              "    .dataframe tbody tr th {\n",
              "        vertical-align: top;\n",
              "    }\n",
              "\n",
              "    .dataframe thead th {\n",
              "        text-align: right;\n",
              "    }\n",
              "</style>\n",
              "<table border=\"1\" class=\"dataframe\">\n",
              "  <thead>\n",
              "    <tr style=\"text-align: right;\">\n",
              "      <th></th>\n",
              "      <th>account number</th>\n",
              "      <th>name</th>\n",
              "      <th>sku</th>\n",
              "      <th>quantity</th>\n",
              "      <th>unit price</th>\n",
              "      <th>ext price</th>\n",
              "      <th>date</th>\n",
              "    </tr>\n",
              "  </thead>\n",
              "  <tbody>\n",
              "    <tr>\n",
              "      <th>0</th>\n",
              "      <td>740150</td>\n",
              "      <td>Barton LLC</td>\n",
              "      <td>B1-20000</td>\n",
              "      <td>39</td>\n",
              "      <td>86.69</td>\n",
              "      <td>3380.91</td>\n",
              "      <td>2014-01-01 07:21:51</td>\n",
              "    </tr>\n",
              "    <tr>\n",
              "      <th>2</th>\n",
              "      <td>218895</td>\n",
              "      <td>Kulas Inc</td>\n",
              "      <td>B1-69924</td>\n",
              "      <td>23</td>\n",
              "      <td>90.70</td>\n",
              "      <td>2086.10</td>\n",
              "      <td>2014-01-01 13:24:58</td>\n",
              "    </tr>\n",
              "    <tr>\n",
              "      <th>14</th>\n",
              "      <td>737550</td>\n",
              "      <td>Fritsch, Russel and Anderson</td>\n",
              "      <td>B1-53102</td>\n",
              "      <td>23</td>\n",
              "      <td>71.56</td>\n",
              "      <td>1645.88</td>\n",
              "      <td>2014-01-04 08:57:48</td>\n",
              "    </tr>\n",
              "    <tr>\n",
              "      <th>26</th>\n",
              "      <td>737550</td>\n",
              "      <td>Fritsch, Russel and Anderson</td>\n",
              "      <td>B1-53636</td>\n",
              "      <td>42</td>\n",
              "      <td>42.06</td>\n",
              "      <td>1766.52</td>\n",
              "      <td>2014-01-08 00:02:11</td>\n",
              "    </tr>\n",
              "    <tr>\n",
              "      <th>31</th>\n",
              "      <td>714466</td>\n",
              "      <td>Trantow-Barrows</td>\n",
              "      <td>B1-33087</td>\n",
              "      <td>32</td>\n",
              "      <td>19.56</td>\n",
              "      <td>625.92</td>\n",
              "      <td>2014-01-09 10:16:32</td>\n",
              "    </tr>\n",
              "  </tbody>\n",
              "</table>\n",
              "</div>"
            ],
            "text/plain": [
              "    account number                          name       sku  quantity  \\\n",
              "0           740150                    Barton LLC  B1-20000        39   \n",
              "2           218895                     Kulas Inc  B1-69924        23   \n",
              "14          737550  Fritsch, Russel and Anderson  B1-53102        23   \n",
              "26          737550  Fritsch, Russel and Anderson  B1-53636        42   \n",
              "31          714466               Trantow-Barrows  B1-33087        32   \n",
              "\n",
              "    unit price  ext price                date  \n",
              "0        86.69    3380.91 2014-01-01 07:21:51  \n",
              "2        90.70    2086.10 2014-01-01 13:24:58  \n",
              "14       71.56    1645.88 2014-01-04 08:57:48  \n",
              "26       42.06    1766.52 2014-01-08 00:02:11  \n",
              "31       19.56     625.92 2014-01-09 10:16:32  "
            ]
          },
          "metadata": {
            "tags": []
          },
          "execution_count": 38
        }
      ]
    },
    {
      "metadata": {
        "id": "Zl-4VEY4p28_",
        "colab_type": "code",
        "colab": {
          "base_uri": "https://localhost:8080/",
          "height": 204
        },
        "outputId": "9630c130-92f1-4571-b96a-221b134f0745"
      },
      "cell_type": "code",
      "source": [
        "# use isin for a list of values\n",
        "df[df[\"account number\"].isin([714466,218895])].head()"
      ],
      "execution_count": 39,
      "outputs": [
        {
          "output_type": "execute_result",
          "data": {
            "text/html": [
              "<div>\n",
              "<style scoped>\n",
              "    .dataframe tbody tr th:only-of-type {\n",
              "        vertical-align: middle;\n",
              "    }\n",
              "\n",
              "    .dataframe tbody tr th {\n",
              "        vertical-align: top;\n",
              "    }\n",
              "\n",
              "    .dataframe thead th {\n",
              "        text-align: right;\n",
              "    }\n",
              "</style>\n",
              "<table border=\"1\" class=\"dataframe\">\n",
              "  <thead>\n",
              "    <tr style=\"text-align: right;\">\n",
              "      <th></th>\n",
              "      <th>account number</th>\n",
              "      <th>name</th>\n",
              "      <th>sku</th>\n",
              "      <th>quantity</th>\n",
              "      <th>unit price</th>\n",
              "      <th>ext price</th>\n",
              "      <th>date</th>\n",
              "    </tr>\n",
              "  </thead>\n",
              "  <tbody>\n",
              "    <tr>\n",
              "      <th>1</th>\n",
              "      <td>714466</td>\n",
              "      <td>Trantow-Barrows</td>\n",
              "      <td>S2-77896</td>\n",
              "      <td>-1</td>\n",
              "      <td>63.16</td>\n",
              "      <td>-63.16</td>\n",
              "      <td>2014-01-01 10:00:47</td>\n",
              "    </tr>\n",
              "    <tr>\n",
              "      <th>2</th>\n",
              "      <td>218895</td>\n",
              "      <td>Kulas Inc</td>\n",
              "      <td>B1-69924</td>\n",
              "      <td>23</td>\n",
              "      <td>90.70</td>\n",
              "      <td>2086.10</td>\n",
              "      <td>2014-01-01 13:24:58</td>\n",
              "    </tr>\n",
              "    <tr>\n",
              "      <th>5</th>\n",
              "      <td>714466</td>\n",
              "      <td>Trantow-Barrows</td>\n",
              "      <td>S2-77896</td>\n",
              "      <td>17</td>\n",
              "      <td>87.63</td>\n",
              "      <td>1489.71</td>\n",
              "      <td>2014-01-02 10:07:15</td>\n",
              "    </tr>\n",
              "    <tr>\n",
              "      <th>6</th>\n",
              "      <td>218895</td>\n",
              "      <td>Kulas Inc</td>\n",
              "      <td>B1-65551</td>\n",
              "      <td>2</td>\n",
              "      <td>31.10</td>\n",
              "      <td>62.20</td>\n",
              "      <td>2014-01-02 10:57:23</td>\n",
              "    </tr>\n",
              "    <tr>\n",
              "      <th>8</th>\n",
              "      <td>714466</td>\n",
              "      <td>Trantow-Barrows</td>\n",
              "      <td>S1-50961</td>\n",
              "      <td>22</td>\n",
              "      <td>84.09</td>\n",
              "      <td>1849.98</td>\n",
              "      <td>2014-01-03 11:29:02</td>\n",
              "    </tr>\n",
              "  </tbody>\n",
              "</table>\n",
              "</div>"
            ],
            "text/plain": [
              "   account number             name       sku  quantity  unit price  ext price  \\\n",
              "1          714466  Trantow-Barrows  S2-77896        -1       63.16     -63.16   \n",
              "2          218895        Kulas Inc  B1-69924        23       90.70    2086.10   \n",
              "5          714466  Trantow-Barrows  S2-77896        17       87.63    1489.71   \n",
              "6          218895        Kulas Inc  B1-65551         2       31.10      62.20   \n",
              "8          714466  Trantow-Barrows  S1-50961        22       84.09    1849.98   \n",
              "\n",
              "                 date  \n",
              "1 2014-01-01 10:00:47  \n",
              "2 2014-01-01 13:24:58  \n",
              "5 2014-01-02 10:07:15  \n",
              "6 2014-01-02 10:57:23  \n",
              "8 2014-01-03 11:29:02  "
            ]
          },
          "metadata": {
            "tags": []
          },
          "execution_count": 39
        }
      ]
    },
    {
      "metadata": {
        "id": "zaDaJip3qLvB",
        "colab_type": "code",
        "colab": {
          "base_uri": "https://localhost:8080/",
          "height": 238
        },
        "outputId": "bf56fe46-16a6-410b-ccb3-9d16a081bbee"
      },
      "cell_type": "code",
      "source": [
        "# run a query with filter and use time% to measure performance\n",
        "%time\n",
        "df.query('name == [\"Kulas Inc\",\"Barton LLC\"]').head()"
      ],
      "execution_count": 45,
      "outputs": [
        {
          "output_type": "stream",
          "text": [
            "CPU times: user 3 µs, sys: 0 ns, total: 3 µs\n",
            "Wall time: 7.15 µs\n"
          ],
          "name": "stdout"
        },
        {
          "output_type": "execute_result",
          "data": {
            "text/html": [
              "<div>\n",
              "<style scoped>\n",
              "    .dataframe tbody tr th:only-of-type {\n",
              "        vertical-align: middle;\n",
              "    }\n",
              "\n",
              "    .dataframe tbody tr th {\n",
              "        vertical-align: top;\n",
              "    }\n",
              "\n",
              "    .dataframe thead th {\n",
              "        text-align: right;\n",
              "    }\n",
              "</style>\n",
              "<table border=\"1\" class=\"dataframe\">\n",
              "  <thead>\n",
              "    <tr style=\"text-align: right;\">\n",
              "      <th></th>\n",
              "      <th>account number</th>\n",
              "      <th>name</th>\n",
              "      <th>sku</th>\n",
              "      <th>quantity</th>\n",
              "      <th>unit price</th>\n",
              "      <th>ext price</th>\n",
              "      <th>date</th>\n",
              "    </tr>\n",
              "  </thead>\n",
              "  <tbody>\n",
              "    <tr>\n",
              "      <th>0</th>\n",
              "      <td>740150</td>\n",
              "      <td>Barton LLC</td>\n",
              "      <td>B1-20000</td>\n",
              "      <td>39</td>\n",
              "      <td>86.69</td>\n",
              "      <td>3380.91</td>\n",
              "      <td>2014-01-01 07:21:51</td>\n",
              "    </tr>\n",
              "    <tr>\n",
              "      <th>2</th>\n",
              "      <td>218895</td>\n",
              "      <td>Kulas Inc</td>\n",
              "      <td>B1-69924</td>\n",
              "      <td>23</td>\n",
              "      <td>90.70</td>\n",
              "      <td>2086.10</td>\n",
              "      <td>2014-01-01 13:24:58</td>\n",
              "    </tr>\n",
              "    <tr>\n",
              "      <th>6</th>\n",
              "      <td>218895</td>\n",
              "      <td>Kulas Inc</td>\n",
              "      <td>B1-65551</td>\n",
              "      <td>2</td>\n",
              "      <td>31.10</td>\n",
              "      <td>62.20</td>\n",
              "      <td>2014-01-02 10:57:23</td>\n",
              "    </tr>\n",
              "    <tr>\n",
              "      <th>33</th>\n",
              "      <td>218895</td>\n",
              "      <td>Kulas Inc</td>\n",
              "      <td>S1-06532</td>\n",
              "      <td>3</td>\n",
              "      <td>22.36</td>\n",
              "      <td>67.08</td>\n",
              "      <td>2014-01-09 23:58:27</td>\n",
              "    </tr>\n",
              "    <tr>\n",
              "      <th>36</th>\n",
              "      <td>218895</td>\n",
              "      <td>Kulas Inc</td>\n",
              "      <td>S2-34077</td>\n",
              "      <td>16</td>\n",
              "      <td>73.04</td>\n",
              "      <td>1168.64</td>\n",
              "      <td>2014-01-10 12:07:30</td>\n",
              "    </tr>\n",
              "  </tbody>\n",
              "</table>\n",
              "</div>"
            ],
            "text/plain": [
              "    account number        name       sku  quantity  unit price  ext price  \\\n",
              "0           740150  Barton LLC  B1-20000        39       86.69    3380.91   \n",
              "2           218895   Kulas Inc  B1-69924        23       90.70    2086.10   \n",
              "6           218895   Kulas Inc  B1-65551         2       31.10      62.20   \n",
              "33          218895   Kulas Inc  S1-06532         3       22.36      67.08   \n",
              "36          218895   Kulas Inc  S2-34077        16       73.04    1168.64   \n",
              "\n",
              "                  date  \n",
              "0  2014-01-01 07:21:51  \n",
              "2  2014-01-01 13:24:58  \n",
              "6  2014-01-02 10:57:23  \n",
              "33 2014-01-09 23:58:27  \n",
              "36 2014-01-10 12:07:30  "
            ]
          },
          "metadata": {
            "tags": []
          },
          "execution_count": 45
        }
      ]
    },
    {
      "metadata": {
        "id": "z9xlJH7pqOiY",
        "colab_type": "code",
        "colab": {
          "base_uri": "https://localhost:8080/",
          "height": 238
        },
        "outputId": "86085155-4913-47ea-d7c0-c3c7389336b2"
      },
      "cell_type": "code",
      "source": [
        "# the same query with isin\n",
        "%time\n",
        "df[df[\"name\"].isin([\"Barton LLC\",\"Kulas Inc\"])].head()"
      ],
      "execution_count": 46,
      "outputs": [
        {
          "output_type": "stream",
          "text": [
            "CPU times: user 3 µs, sys: 0 ns, total: 3 µs\n",
            "Wall time: 6.91 µs\n"
          ],
          "name": "stdout"
        },
        {
          "output_type": "execute_result",
          "data": {
            "text/html": [
              "<div>\n",
              "<style scoped>\n",
              "    .dataframe tbody tr th:only-of-type {\n",
              "        vertical-align: middle;\n",
              "    }\n",
              "\n",
              "    .dataframe tbody tr th {\n",
              "        vertical-align: top;\n",
              "    }\n",
              "\n",
              "    .dataframe thead th {\n",
              "        text-align: right;\n",
              "    }\n",
              "</style>\n",
              "<table border=\"1\" class=\"dataframe\">\n",
              "  <thead>\n",
              "    <tr style=\"text-align: right;\">\n",
              "      <th></th>\n",
              "      <th>account number</th>\n",
              "      <th>name</th>\n",
              "      <th>sku</th>\n",
              "      <th>quantity</th>\n",
              "      <th>unit price</th>\n",
              "      <th>ext price</th>\n",
              "      <th>date</th>\n",
              "    </tr>\n",
              "  </thead>\n",
              "  <tbody>\n",
              "    <tr>\n",
              "      <th>0</th>\n",
              "      <td>740150</td>\n",
              "      <td>Barton LLC</td>\n",
              "      <td>B1-20000</td>\n",
              "      <td>39</td>\n",
              "      <td>86.69</td>\n",
              "      <td>3380.91</td>\n",
              "      <td>2014-01-01 07:21:51</td>\n",
              "    </tr>\n",
              "    <tr>\n",
              "      <th>2</th>\n",
              "      <td>218895</td>\n",
              "      <td>Kulas Inc</td>\n",
              "      <td>B1-69924</td>\n",
              "      <td>23</td>\n",
              "      <td>90.70</td>\n",
              "      <td>2086.10</td>\n",
              "      <td>2014-01-01 13:24:58</td>\n",
              "    </tr>\n",
              "    <tr>\n",
              "      <th>6</th>\n",
              "      <td>218895</td>\n",
              "      <td>Kulas Inc</td>\n",
              "      <td>B1-65551</td>\n",
              "      <td>2</td>\n",
              "      <td>31.10</td>\n",
              "      <td>62.20</td>\n",
              "      <td>2014-01-02 10:57:23</td>\n",
              "    </tr>\n",
              "    <tr>\n",
              "      <th>33</th>\n",
              "      <td>218895</td>\n",
              "      <td>Kulas Inc</td>\n",
              "      <td>S1-06532</td>\n",
              "      <td>3</td>\n",
              "      <td>22.36</td>\n",
              "      <td>67.08</td>\n",
              "      <td>2014-01-09 23:58:27</td>\n",
              "    </tr>\n",
              "    <tr>\n",
              "      <th>36</th>\n",
              "      <td>218895</td>\n",
              "      <td>Kulas Inc</td>\n",
              "      <td>S2-34077</td>\n",
              "      <td>16</td>\n",
              "      <td>73.04</td>\n",
              "      <td>1168.64</td>\n",
              "      <td>2014-01-10 12:07:30</td>\n",
              "    </tr>\n",
              "  </tbody>\n",
              "</table>\n",
              "</div>"
            ],
            "text/plain": [
              "    account number        name       sku  quantity  unit price  ext price  \\\n",
              "0           740150  Barton LLC  B1-20000        39       86.69    3380.91   \n",
              "2           218895   Kulas Inc  B1-69924        23       90.70    2086.10   \n",
              "6           218895   Kulas Inc  B1-65551         2       31.10      62.20   \n",
              "33          218895   Kulas Inc  S1-06532         3       22.36      67.08   \n",
              "36          218895   Kulas Inc  S2-34077        16       73.04    1168.64   \n",
              "\n",
              "                  date  \n",
              "0  2014-01-01 07:21:51  \n",
              "2  2014-01-01 13:24:58  \n",
              "6  2014-01-02 10:57:23  \n",
              "33 2014-01-09 23:58:27  \n",
              "36 2014-01-10 12:07:30  "
            ]
          },
          "metadata": {
            "tags": []
          },
          "execution_count": 46
        }
      ]
    },
    {
      "metadata": {
        "id": "aj-P1ovMs1aD",
        "colab_type": "text"
      },
      "cell_type": "markdown",
      "source": [
        "Working with Dates and Time in pandas"
      ]
    },
    {
      "metadata": {
        "id": "saa2Nvoss6wD",
        "colab_type": "code",
        "colab": {
          "base_uri": "https://localhost:8080/",
          "height": 207
        },
        "outputId": "1b88d4b9-79ae-4c9a-d288-6bec951e90ae"
      },
      "cell_type": "code",
      "source": [
        "!pip show pandas"
      ],
      "execution_count": 51,
      "outputs": [
        {
          "output_type": "stream",
          "text": [
            "Name: pandas\n",
            "Version: 0.22.0\n",
            "Summary: Powerful data structures for data analysis, time series,and statistics\n",
            "Home-page: http://pandas.pydata.org\n",
            "Author: The PyData Development Team\n",
            "Author-email: pydata@googlegroups.com\n",
            "License: BSD\n",
            "Location: /usr/local/lib/python3.6/dist-packages\n",
            "Requires: numpy, pytz, python-dateutil\n",
            "Required-by: xarray, vega-datasets, statsmodels, stable-baselines, pymc3, pandas-profiling, pandas-gbq, pandas-datareader, mlxtend, magenta, gspread-dataframe, fix-yahoo-finance, featuretools, fbprophet, cufflinks, altair\n"
          ],
          "name": "stdout"
        }
      ]
    },
    {
      "metadata": {
        "id": "giCB85Dlzvh2",
        "colab_type": "code",
        "colab": {
          "base_uri": "https://localhost:8080/",
          "height": 204
        },
        "outputId": "0c1a88f1-0826-45a0-a710-83d8fba68352"
      },
      "cell_type": "code",
      "source": [
        "# sort pandas - note: version 0.22 https://pandas.pydata.org/pandas-docs/version/0.22/generated/pandas.DataFrame.sort_values.html\n",
        "df = df.sort_values(by=['date'])\n",
        "df.head()"
      ],
      "execution_count": 7,
      "outputs": [
        {
          "output_type": "execute_result",
          "data": {
            "text/html": [
              "<div>\n",
              "<style scoped>\n",
              "    .dataframe tbody tr th:only-of-type {\n",
              "        vertical-align: middle;\n",
              "    }\n",
              "\n",
              "    .dataframe tbody tr th {\n",
              "        vertical-align: top;\n",
              "    }\n",
              "\n",
              "    .dataframe thead th {\n",
              "        text-align: right;\n",
              "    }\n",
              "</style>\n",
              "<table border=\"1\" class=\"dataframe\">\n",
              "  <thead>\n",
              "    <tr style=\"text-align: right;\">\n",
              "      <th></th>\n",
              "      <th>account number</th>\n",
              "      <th>name</th>\n",
              "      <th>sku</th>\n",
              "      <th>quantity</th>\n",
              "      <th>unit price</th>\n",
              "      <th>ext price</th>\n",
              "      <th>date</th>\n",
              "    </tr>\n",
              "  </thead>\n",
              "  <tbody>\n",
              "    <tr>\n",
              "      <th>0</th>\n",
              "      <td>740150</td>\n",
              "      <td>Barton LLC</td>\n",
              "      <td>B1-20000</td>\n",
              "      <td>39</td>\n",
              "      <td>86.69</td>\n",
              "      <td>3380.91</td>\n",
              "      <td>2014-01-01 07:21:51</td>\n",
              "    </tr>\n",
              "    <tr>\n",
              "      <th>1</th>\n",
              "      <td>714466</td>\n",
              "      <td>Trantow-Barrows</td>\n",
              "      <td>S2-77896</td>\n",
              "      <td>-1</td>\n",
              "      <td>63.16</td>\n",
              "      <td>-63.16</td>\n",
              "      <td>2014-01-01 10:00:47</td>\n",
              "    </tr>\n",
              "    <tr>\n",
              "      <th>2</th>\n",
              "      <td>218895</td>\n",
              "      <td>Kulas Inc</td>\n",
              "      <td>B1-69924</td>\n",
              "      <td>23</td>\n",
              "      <td>90.70</td>\n",
              "      <td>2086.10</td>\n",
              "      <td>2014-01-01 13:24:58</td>\n",
              "    </tr>\n",
              "    <tr>\n",
              "      <th>3</th>\n",
              "      <td>307599</td>\n",
              "      <td>Kassulke, Ondricka and Metz</td>\n",
              "      <td>S1-65481</td>\n",
              "      <td>41</td>\n",
              "      <td>21.05</td>\n",
              "      <td>863.05</td>\n",
              "      <td>2014-01-01 15:05:22</td>\n",
              "    </tr>\n",
              "    <tr>\n",
              "      <th>4</th>\n",
              "      <td>412290</td>\n",
              "      <td>Jerde-Hilpert</td>\n",
              "      <td>S2-34077</td>\n",
              "      <td>6</td>\n",
              "      <td>83.21</td>\n",
              "      <td>499.26</td>\n",
              "      <td>2014-01-01 23:26:55</td>\n",
              "    </tr>\n",
              "  </tbody>\n",
              "</table>\n",
              "</div>"
            ],
            "text/plain": [
              "   account number                         name       sku  quantity  \\\n",
              "0          740150                   Barton LLC  B1-20000        39   \n",
              "1          714466              Trantow-Barrows  S2-77896        -1   \n",
              "2          218895                    Kulas Inc  B1-69924        23   \n",
              "3          307599  Kassulke, Ondricka and Metz  S1-65481        41   \n",
              "4          412290                Jerde-Hilpert  S2-34077         6   \n",
              "\n",
              "   unit price  ext price                date  \n",
              "0       86.69    3380.91 2014-01-01 07:21:51  \n",
              "1       63.16     -63.16 2014-01-01 10:00:47  \n",
              "2       90.70    2086.10 2014-01-01 13:24:58  \n",
              "3       21.05     863.05 2014-01-01 15:05:22  \n",
              "4       83.21     499.26 2014-01-01 23:26:55  "
            ]
          },
          "metadata": {
            "tags": []
          },
          "execution_count": 7
        }
      ]
    },
    {
      "metadata": {
        "id": "vOTPaC9e0IMV",
        "colab_type": "code",
        "colab": {
          "base_uri": "https://localhost:8080/",
          "height": 204
        },
        "outputId": "152868f0-c640-4dd2-ac02-b9ab3e61a550"
      },
      "cell_type": "code",
      "source": [
        "# filter by date\n",
        "df[df['date'] >='20140905'].head()"
      ],
      "execution_count": 53,
      "outputs": [
        {
          "output_type": "execute_result",
          "data": {
            "text/html": [
              "<div>\n",
              "<style scoped>\n",
              "    .dataframe tbody tr th:only-of-type {\n",
              "        vertical-align: middle;\n",
              "    }\n",
              "\n",
              "    .dataframe tbody tr th {\n",
              "        vertical-align: top;\n",
              "    }\n",
              "\n",
              "    .dataframe thead th {\n",
              "        text-align: right;\n",
              "    }\n",
              "</style>\n",
              "<table border=\"1\" class=\"dataframe\">\n",
              "  <thead>\n",
              "    <tr style=\"text-align: right;\">\n",
              "      <th></th>\n",
              "      <th>account number</th>\n",
              "      <th>name</th>\n",
              "      <th>sku</th>\n",
              "      <th>quantity</th>\n",
              "      <th>unit price</th>\n",
              "      <th>ext price</th>\n",
              "      <th>date</th>\n",
              "    </tr>\n",
              "  </thead>\n",
              "  <tbody>\n",
              "    <tr>\n",
              "      <th>1042</th>\n",
              "      <td>163416</td>\n",
              "      <td>Purdy-Kunde</td>\n",
              "      <td>B1-38851</td>\n",
              "      <td>41</td>\n",
              "      <td>98.69</td>\n",
              "      <td>4046.29</td>\n",
              "      <td>2014-09-05 01:52:32</td>\n",
              "    </tr>\n",
              "    <tr>\n",
              "      <th>1043</th>\n",
              "      <td>714466</td>\n",
              "      <td>Trantow-Barrows</td>\n",
              "      <td>S1-30248</td>\n",
              "      <td>1</td>\n",
              "      <td>37.16</td>\n",
              "      <td>37.16</td>\n",
              "      <td>2014-09-05 06:17:19</td>\n",
              "    </tr>\n",
              "    <tr>\n",
              "      <th>1044</th>\n",
              "      <td>729833</td>\n",
              "      <td>Koepp Ltd</td>\n",
              "      <td>S1-65481</td>\n",
              "      <td>48</td>\n",
              "      <td>16.04</td>\n",
              "      <td>769.92</td>\n",
              "      <td>2014-09-05 08:54:41</td>\n",
              "    </tr>\n",
              "    <tr>\n",
              "      <th>1045</th>\n",
              "      <td>729833</td>\n",
              "      <td>Koepp Ltd</td>\n",
              "      <td>S2-11481</td>\n",
              "      <td>6</td>\n",
              "      <td>26.50</td>\n",
              "      <td>159.00</td>\n",
              "      <td>2014-09-05 16:33:15</td>\n",
              "    </tr>\n",
              "    <tr>\n",
              "      <th>1046</th>\n",
              "      <td>737550</td>\n",
              "      <td>Fritsch, Russel and Anderson</td>\n",
              "      <td>B1-33364</td>\n",
              "      <td>4</td>\n",
              "      <td>76.44</td>\n",
              "      <td>305.76</td>\n",
              "      <td>2014-09-06 08:59:08</td>\n",
              "    </tr>\n",
              "  </tbody>\n",
              "</table>\n",
              "</div>"
            ],
            "text/plain": [
              "      account number                          name       sku  quantity  \\\n",
              "1042          163416                   Purdy-Kunde  B1-38851        41   \n",
              "1043          714466               Trantow-Barrows  S1-30248         1   \n",
              "1044          729833                     Koepp Ltd  S1-65481        48   \n",
              "1045          729833                     Koepp Ltd  S2-11481         6   \n",
              "1046          737550  Fritsch, Russel and Anderson  B1-33364         4   \n",
              "\n",
              "      unit price  ext price                date  \n",
              "1042       98.69    4046.29 2014-09-05 01:52:32  \n",
              "1043       37.16      37.16 2014-09-05 06:17:19  \n",
              "1044       16.04     769.92 2014-09-05 08:54:41  \n",
              "1045       26.50     159.00 2014-09-05 16:33:15  \n",
              "1046       76.44     305.76 2014-09-06 08:59:08  "
            ]
          },
          "metadata": {
            "tags": []
          },
          "execution_count": 53
        }
      ]
    },
    {
      "metadata": {
        "id": "PQlqbU5E0PIq",
        "colab_type": "code",
        "colab": {
          "base_uri": "https://localhost:8080/",
          "height": 204
        },
        "outputId": "71a6e73f-dc88-4a66-9fb4-dfeea29ae788"
      },
      "cell_type": "code",
      "source": [
        "# partial filter on date\n",
        "df[df['date'] >='2014-03'].head()"
      ],
      "execution_count": 54,
      "outputs": [
        {
          "output_type": "execute_result",
          "data": {
            "text/html": [
              "<div>\n",
              "<style scoped>\n",
              "    .dataframe tbody tr th:only-of-type {\n",
              "        vertical-align: middle;\n",
              "    }\n",
              "\n",
              "    .dataframe tbody tr th {\n",
              "        vertical-align: top;\n",
              "    }\n",
              "\n",
              "    .dataframe thead th {\n",
              "        text-align: right;\n",
              "    }\n",
              "</style>\n",
              "<table border=\"1\" class=\"dataframe\">\n",
              "  <thead>\n",
              "    <tr style=\"text-align: right;\">\n",
              "      <th></th>\n",
              "      <th>account number</th>\n",
              "      <th>name</th>\n",
              "      <th>sku</th>\n",
              "      <th>quantity</th>\n",
              "      <th>unit price</th>\n",
              "      <th>ext price</th>\n",
              "      <th>date</th>\n",
              "    </tr>\n",
              "  </thead>\n",
              "  <tbody>\n",
              "    <tr>\n",
              "      <th>242</th>\n",
              "      <td>163416</td>\n",
              "      <td>Purdy-Kunde</td>\n",
              "      <td>S1-30248</td>\n",
              "      <td>19</td>\n",
              "      <td>65.03</td>\n",
              "      <td>1235.57</td>\n",
              "      <td>2014-03-01 16:07:40</td>\n",
              "    </tr>\n",
              "    <tr>\n",
              "      <th>243</th>\n",
              "      <td>527099</td>\n",
              "      <td>Sanford and Sons</td>\n",
              "      <td>S2-82423</td>\n",
              "      <td>3</td>\n",
              "      <td>76.21</td>\n",
              "      <td>228.63</td>\n",
              "      <td>2014-03-01 17:18:01</td>\n",
              "    </tr>\n",
              "    <tr>\n",
              "      <th>244</th>\n",
              "      <td>527099</td>\n",
              "      <td>Sanford and Sons</td>\n",
              "      <td>B1-50809</td>\n",
              "      <td>8</td>\n",
              "      <td>70.78</td>\n",
              "      <td>566.24</td>\n",
              "      <td>2014-03-01 18:53:09</td>\n",
              "    </tr>\n",
              "    <tr>\n",
              "      <th>245</th>\n",
              "      <td>737550</td>\n",
              "      <td>Fritsch, Russel and Anderson</td>\n",
              "      <td>B1-50809</td>\n",
              "      <td>20</td>\n",
              "      <td>50.11</td>\n",
              "      <td>1002.20</td>\n",
              "      <td>2014-03-01 23:47:17</td>\n",
              "    </tr>\n",
              "    <tr>\n",
              "      <th>246</th>\n",
              "      <td>688981</td>\n",
              "      <td>Keeling LLC</td>\n",
              "      <td>B1-86481</td>\n",
              "      <td>-1</td>\n",
              "      <td>97.16</td>\n",
              "      <td>-97.16</td>\n",
              "      <td>2014-03-02 01:46:44</td>\n",
              "    </tr>\n",
              "  </tbody>\n",
              "</table>\n",
              "</div>"
            ],
            "text/plain": [
              "     account number                          name       sku  quantity  \\\n",
              "242          163416                   Purdy-Kunde  S1-30248        19   \n",
              "243          527099              Sanford and Sons  S2-82423         3   \n",
              "244          527099              Sanford and Sons  B1-50809         8   \n",
              "245          737550  Fritsch, Russel and Anderson  B1-50809        20   \n",
              "246          688981                   Keeling LLC  B1-86481        -1   \n",
              "\n",
              "     unit price  ext price                date  \n",
              "242       65.03    1235.57 2014-03-01 16:07:40  \n",
              "243       76.21     228.63 2014-03-01 17:18:01  \n",
              "244       70.78     566.24 2014-03-01 18:53:09  \n",
              "245       50.11    1002.20 2014-03-01 23:47:17  \n",
              "246       97.16     -97.16 2014-03-02 01:46:44  "
            ]
          },
          "metadata": {
            "tags": []
          },
          "execution_count": 54
        }
      ]
    },
    {
      "metadata": {
        "id": "hWxIZB8I0ZCg",
        "colab_type": "code",
        "colab": {
          "base_uri": "https://localhost:8080/",
          "height": 204
        },
        "outputId": "4fd669d2-5117-41c7-f81d-6b1a14fa2aaa"
      },
      "cell_type": "code",
      "source": [
        "# chain filter criteria\n",
        "df[(df['date'] >='20140701') & (df['date'] <= '20140715')].head()"
      ],
      "execution_count": 55,
      "outputs": [
        {
          "output_type": "execute_result",
          "data": {
            "text/html": [
              "<div>\n",
              "<style scoped>\n",
              "    .dataframe tbody tr th:only-of-type {\n",
              "        vertical-align: middle;\n",
              "    }\n",
              "\n",
              "    .dataframe tbody tr th {\n",
              "        vertical-align: top;\n",
              "    }\n",
              "\n",
              "    .dataframe thead th {\n",
              "        text-align: right;\n",
              "    }\n",
              "</style>\n",
              "<table border=\"1\" class=\"dataframe\">\n",
              "  <thead>\n",
              "    <tr style=\"text-align: right;\">\n",
              "      <th></th>\n",
              "      <th>account number</th>\n",
              "      <th>name</th>\n",
              "      <th>sku</th>\n",
              "      <th>quantity</th>\n",
              "      <th>unit price</th>\n",
              "      <th>ext price</th>\n",
              "      <th>date</th>\n",
              "    </tr>\n",
              "  </thead>\n",
              "  <tbody>\n",
              "    <tr>\n",
              "      <th>778</th>\n",
              "      <td>737550</td>\n",
              "      <td>Fritsch, Russel and Anderson</td>\n",
              "      <td>S1-65481</td>\n",
              "      <td>35</td>\n",
              "      <td>70.51</td>\n",
              "      <td>2467.85</td>\n",
              "      <td>2014-07-01 00:21:58</td>\n",
              "    </tr>\n",
              "    <tr>\n",
              "      <th>779</th>\n",
              "      <td>218895</td>\n",
              "      <td>Kulas Inc</td>\n",
              "      <td>S1-30248</td>\n",
              "      <td>9</td>\n",
              "      <td>16.56</td>\n",
              "      <td>149.04</td>\n",
              "      <td>2014-07-01 00:52:38</td>\n",
              "    </tr>\n",
              "    <tr>\n",
              "      <th>780</th>\n",
              "      <td>163416</td>\n",
              "      <td>Purdy-Kunde</td>\n",
              "      <td>S2-82423</td>\n",
              "      <td>44</td>\n",
              "      <td>68.27</td>\n",
              "      <td>3003.88</td>\n",
              "      <td>2014-07-01 08:15:52</td>\n",
              "    </tr>\n",
              "    <tr>\n",
              "      <th>781</th>\n",
              "      <td>672390</td>\n",
              "      <td>Kuhn-Gusikowski</td>\n",
              "      <td>B1-04202</td>\n",
              "      <td>48</td>\n",
              "      <td>99.39</td>\n",
              "      <td>4770.72</td>\n",
              "      <td>2014-07-01 11:12:13</td>\n",
              "    </tr>\n",
              "    <tr>\n",
              "      <th>782</th>\n",
              "      <td>642753</td>\n",
              "      <td>Pollich LLC</td>\n",
              "      <td>S2-23246</td>\n",
              "      <td>1</td>\n",
              "      <td>51.29</td>\n",
              "      <td>51.29</td>\n",
              "      <td>2014-07-02 04:02:39</td>\n",
              "    </tr>\n",
              "  </tbody>\n",
              "</table>\n",
              "</div>"
            ],
            "text/plain": [
              "     account number                          name       sku  quantity  \\\n",
              "778          737550  Fritsch, Russel and Anderson  S1-65481        35   \n",
              "779          218895                     Kulas Inc  S1-30248         9   \n",
              "780          163416                   Purdy-Kunde  S2-82423        44   \n",
              "781          672390               Kuhn-Gusikowski  B1-04202        48   \n",
              "782          642753                   Pollich LLC  S2-23246         1   \n",
              "\n",
              "     unit price  ext price                date  \n",
              "778       70.51    2467.85 2014-07-01 00:21:58  \n",
              "779       16.56     149.04 2014-07-01 00:52:38  \n",
              "780       68.27    3003.88 2014-07-01 08:15:52  \n",
              "781       99.39    4770.72 2014-07-01 11:12:13  \n",
              "782       51.29      51.29 2014-07-02 04:02:39  "
            ]
          },
          "metadata": {
            "tags": []
          },
          "execution_count": 55
        }
      ]
    },
    {
      "metadata": {
        "id": "W-jkYWoj0mJs",
        "colab_type": "code",
        "colab": {
          "base_uri": "https://localhost:8080/",
          "height": 204
        },
        "outputId": "f7cbacb1-3e59-4e40-845b-0460fc0f4b61"
      },
      "cell_type": "code",
      "source": [
        "# because the date is in format datetime you can use also following\n",
        "df[df['date'] >= 'Oct-2014'].head()"
      ],
      "execution_count": 56,
      "outputs": [
        {
          "output_type": "execute_result",
          "data": {
            "text/html": [
              "<div>\n",
              "<style scoped>\n",
              "    .dataframe tbody tr th:only-of-type {\n",
              "        vertical-align: middle;\n",
              "    }\n",
              "\n",
              "    .dataframe tbody tr th {\n",
              "        vertical-align: top;\n",
              "    }\n",
              "\n",
              "    .dataframe thead th {\n",
              "        text-align: right;\n",
              "    }\n",
              "</style>\n",
              "<table border=\"1\" class=\"dataframe\">\n",
              "  <thead>\n",
              "    <tr style=\"text-align: right;\">\n",
              "      <th></th>\n",
              "      <th>account number</th>\n",
              "      <th>name</th>\n",
              "      <th>sku</th>\n",
              "      <th>quantity</th>\n",
              "      <th>unit price</th>\n",
              "      <th>ext price</th>\n",
              "      <th>date</th>\n",
              "    </tr>\n",
              "  </thead>\n",
              "  <tbody>\n",
              "    <tr>\n",
              "      <th>1141</th>\n",
              "      <td>307599</td>\n",
              "      <td>Kassulke, Ondricka and Metz</td>\n",
              "      <td>B1-50809</td>\n",
              "      <td>25</td>\n",
              "      <td>56.63</td>\n",
              "      <td>1415.75</td>\n",
              "      <td>2014-10-01 10:56:32</td>\n",
              "    </tr>\n",
              "    <tr>\n",
              "      <th>1142</th>\n",
              "      <td>737550</td>\n",
              "      <td>Fritsch, Russel and Anderson</td>\n",
              "      <td>S2-82423</td>\n",
              "      <td>38</td>\n",
              "      <td>45.17</td>\n",
              "      <td>1716.46</td>\n",
              "      <td>2014-10-01 16:17:24</td>\n",
              "    </tr>\n",
              "    <tr>\n",
              "      <th>1143</th>\n",
              "      <td>737550</td>\n",
              "      <td>Fritsch, Russel and Anderson</td>\n",
              "      <td>S1-47412</td>\n",
              "      <td>6</td>\n",
              "      <td>68.68</td>\n",
              "      <td>412.08</td>\n",
              "      <td>2014-10-01 22:28:49</td>\n",
              "    </tr>\n",
              "    <tr>\n",
              "      <th>1144</th>\n",
              "      <td>146832</td>\n",
              "      <td>Kiehn-Spinka</td>\n",
              "      <td>S2-11481</td>\n",
              "      <td>13</td>\n",
              "      <td>18.80</td>\n",
              "      <td>244.40</td>\n",
              "      <td>2014-10-02 00:31:01</td>\n",
              "    </tr>\n",
              "    <tr>\n",
              "      <th>1145</th>\n",
              "      <td>424914</td>\n",
              "      <td>White-Trantow</td>\n",
              "      <td>B1-53102</td>\n",
              "      <td>9</td>\n",
              "      <td>94.47</td>\n",
              "      <td>850.23</td>\n",
              "      <td>2014-10-02 02:48:26</td>\n",
              "    </tr>\n",
              "  </tbody>\n",
              "</table>\n",
              "</div>"
            ],
            "text/plain": [
              "      account number                          name       sku  quantity  \\\n",
              "1141          307599   Kassulke, Ondricka and Metz  B1-50809        25   \n",
              "1142          737550  Fritsch, Russel and Anderson  S2-82423        38   \n",
              "1143          737550  Fritsch, Russel and Anderson  S1-47412         6   \n",
              "1144          146832                  Kiehn-Spinka  S2-11481        13   \n",
              "1145          424914                 White-Trantow  B1-53102         9   \n",
              "\n",
              "      unit price  ext price                date  \n",
              "1141       56.63    1415.75 2014-10-01 10:56:32  \n",
              "1142       45.17    1716.46 2014-10-01 16:17:24  \n",
              "1143       68.68     412.08 2014-10-01 22:28:49  \n",
              "1144       18.80     244.40 2014-10-02 00:31:01  \n",
              "1145       94.47     850.23 2014-10-02 02:48:26  "
            ]
          },
          "metadata": {
            "tags": []
          },
          "execution_count": 56
        }
      ]
    },
    {
      "metadata": {
        "id": "AsqeN51801sT",
        "colab_type": "code",
        "colab": {
          "base_uri": "https://localhost:8080/",
          "height": 235
        },
        "outputId": "54bba077-c9c8-410e-e56e-1ac51b473f64"
      },
      "cell_type": "code",
      "source": [
        "# reindex the dataframe according date column\n",
        "df2 = df.set_index(['date'])\n",
        "df2.head()"
      ],
      "execution_count": 8,
      "outputs": [
        {
          "output_type": "execute_result",
          "data": {
            "text/html": [
              "<div>\n",
              "<style scoped>\n",
              "    .dataframe tbody tr th:only-of-type {\n",
              "        vertical-align: middle;\n",
              "    }\n",
              "\n",
              "    .dataframe tbody tr th {\n",
              "        vertical-align: top;\n",
              "    }\n",
              "\n",
              "    .dataframe thead th {\n",
              "        text-align: right;\n",
              "    }\n",
              "</style>\n",
              "<table border=\"1\" class=\"dataframe\">\n",
              "  <thead>\n",
              "    <tr style=\"text-align: right;\">\n",
              "      <th></th>\n",
              "      <th>account number</th>\n",
              "      <th>name</th>\n",
              "      <th>sku</th>\n",
              "      <th>quantity</th>\n",
              "      <th>unit price</th>\n",
              "      <th>ext price</th>\n",
              "    </tr>\n",
              "    <tr>\n",
              "      <th>date</th>\n",
              "      <th></th>\n",
              "      <th></th>\n",
              "      <th></th>\n",
              "      <th></th>\n",
              "      <th></th>\n",
              "      <th></th>\n",
              "    </tr>\n",
              "  </thead>\n",
              "  <tbody>\n",
              "    <tr>\n",
              "      <th>2014-01-01 07:21:51</th>\n",
              "      <td>740150</td>\n",
              "      <td>Barton LLC</td>\n",
              "      <td>B1-20000</td>\n",
              "      <td>39</td>\n",
              "      <td>86.69</td>\n",
              "      <td>3380.91</td>\n",
              "    </tr>\n",
              "    <tr>\n",
              "      <th>2014-01-01 10:00:47</th>\n",
              "      <td>714466</td>\n",
              "      <td>Trantow-Barrows</td>\n",
              "      <td>S2-77896</td>\n",
              "      <td>-1</td>\n",
              "      <td>63.16</td>\n",
              "      <td>-63.16</td>\n",
              "    </tr>\n",
              "    <tr>\n",
              "      <th>2014-01-01 13:24:58</th>\n",
              "      <td>218895</td>\n",
              "      <td>Kulas Inc</td>\n",
              "      <td>B1-69924</td>\n",
              "      <td>23</td>\n",
              "      <td>90.70</td>\n",
              "      <td>2086.10</td>\n",
              "    </tr>\n",
              "    <tr>\n",
              "      <th>2014-01-01 15:05:22</th>\n",
              "      <td>307599</td>\n",
              "      <td>Kassulke, Ondricka and Metz</td>\n",
              "      <td>S1-65481</td>\n",
              "      <td>41</td>\n",
              "      <td>21.05</td>\n",
              "      <td>863.05</td>\n",
              "    </tr>\n",
              "    <tr>\n",
              "      <th>2014-01-01 23:26:55</th>\n",
              "      <td>412290</td>\n",
              "      <td>Jerde-Hilpert</td>\n",
              "      <td>S2-34077</td>\n",
              "      <td>6</td>\n",
              "      <td>83.21</td>\n",
              "      <td>499.26</td>\n",
              "    </tr>\n",
              "  </tbody>\n",
              "</table>\n",
              "</div>"
            ],
            "text/plain": [
              "                     account number                         name       sku  \\\n",
              "date                                                                         \n",
              "2014-01-01 07:21:51          740150                   Barton LLC  B1-20000   \n",
              "2014-01-01 10:00:47          714466              Trantow-Barrows  S2-77896   \n",
              "2014-01-01 13:24:58          218895                    Kulas Inc  B1-69924   \n",
              "2014-01-01 15:05:22          307599  Kassulke, Ondricka and Metz  S1-65481   \n",
              "2014-01-01 23:26:55          412290                Jerde-Hilpert  S2-34077   \n",
              "\n",
              "                     quantity  unit price  ext price  \n",
              "date                                                  \n",
              "2014-01-01 07:21:51        39       86.69    3380.91  \n",
              "2014-01-01 10:00:47        -1       63.16     -63.16  \n",
              "2014-01-01 13:24:58        23       90.70    2086.10  \n",
              "2014-01-01 15:05:22        41       21.05     863.05  \n",
              "2014-01-01 23:26:55         6       83.21     499.26  "
            ]
          },
          "metadata": {
            "tags": []
          },
          "execution_count": 8
        }
      ]
    },
    {
      "metadata": {
        "id": "g1j6NU7z1BhI",
        "colab_type": "code",
        "colab": {
          "base_uri": "https://localhost:8080/",
          "height": 235
        },
        "outputId": "3a50f363-cddf-4655-c247-d5b7b8eaf074"
      },
      "cell_type": "code",
      "source": [
        "# slide the data by date\n",
        "df2[\"20140101\":\"20140201\"].head()\n",
        "# is the same as\n",
        "# df2[\"2014-01-01\":\"2014-02-01\"].head()"
      ],
      "execution_count": 9,
      "outputs": [
        {
          "output_type": "execute_result",
          "data": {
            "text/html": [
              "<div>\n",
              "<style scoped>\n",
              "    .dataframe tbody tr th:only-of-type {\n",
              "        vertical-align: middle;\n",
              "    }\n",
              "\n",
              "    .dataframe tbody tr th {\n",
              "        vertical-align: top;\n",
              "    }\n",
              "\n",
              "    .dataframe thead th {\n",
              "        text-align: right;\n",
              "    }\n",
              "</style>\n",
              "<table border=\"1\" class=\"dataframe\">\n",
              "  <thead>\n",
              "    <tr style=\"text-align: right;\">\n",
              "      <th></th>\n",
              "      <th>account number</th>\n",
              "      <th>name</th>\n",
              "      <th>sku</th>\n",
              "      <th>quantity</th>\n",
              "      <th>unit price</th>\n",
              "      <th>ext price</th>\n",
              "    </tr>\n",
              "    <tr>\n",
              "      <th>date</th>\n",
              "      <th></th>\n",
              "      <th></th>\n",
              "      <th></th>\n",
              "      <th></th>\n",
              "      <th></th>\n",
              "      <th></th>\n",
              "    </tr>\n",
              "  </thead>\n",
              "  <tbody>\n",
              "    <tr>\n",
              "      <th>2014-01-01 07:21:51</th>\n",
              "      <td>740150</td>\n",
              "      <td>Barton LLC</td>\n",
              "      <td>B1-20000</td>\n",
              "      <td>39</td>\n",
              "      <td>86.69</td>\n",
              "      <td>3380.91</td>\n",
              "    </tr>\n",
              "    <tr>\n",
              "      <th>2014-01-01 10:00:47</th>\n",
              "      <td>714466</td>\n",
              "      <td>Trantow-Barrows</td>\n",
              "      <td>S2-77896</td>\n",
              "      <td>-1</td>\n",
              "      <td>63.16</td>\n",
              "      <td>-63.16</td>\n",
              "    </tr>\n",
              "    <tr>\n",
              "      <th>2014-01-01 13:24:58</th>\n",
              "      <td>218895</td>\n",
              "      <td>Kulas Inc</td>\n",
              "      <td>B1-69924</td>\n",
              "      <td>23</td>\n",
              "      <td>90.70</td>\n",
              "      <td>2086.10</td>\n",
              "    </tr>\n",
              "    <tr>\n",
              "      <th>2014-01-01 15:05:22</th>\n",
              "      <td>307599</td>\n",
              "      <td>Kassulke, Ondricka and Metz</td>\n",
              "      <td>S1-65481</td>\n",
              "      <td>41</td>\n",
              "      <td>21.05</td>\n",
              "      <td>863.05</td>\n",
              "    </tr>\n",
              "    <tr>\n",
              "      <th>2014-01-01 23:26:55</th>\n",
              "      <td>412290</td>\n",
              "      <td>Jerde-Hilpert</td>\n",
              "      <td>S2-34077</td>\n",
              "      <td>6</td>\n",
              "      <td>83.21</td>\n",
              "      <td>499.26</td>\n",
              "    </tr>\n",
              "  </tbody>\n",
              "</table>\n",
              "</div>"
            ],
            "text/plain": [
              "                     account number                         name       sku  \\\n",
              "date                                                                         \n",
              "2014-01-01 07:21:51          740150                   Barton LLC  B1-20000   \n",
              "2014-01-01 10:00:47          714466              Trantow-Barrows  S2-77896   \n",
              "2014-01-01 13:24:58          218895                    Kulas Inc  B1-69924   \n",
              "2014-01-01 15:05:22          307599  Kassulke, Ondricka and Metz  S1-65481   \n",
              "2014-01-01 23:26:55          412290                Jerde-Hilpert  S2-34077   \n",
              "\n",
              "                     quantity  unit price  ext price  \n",
              "date                                                  \n",
              "2014-01-01 07:21:51        39       86.69    3380.91  \n",
              "2014-01-01 10:00:47        -1       63.16     -63.16  \n",
              "2014-01-01 13:24:58        23       90.70    2086.10  \n",
              "2014-01-01 15:05:22        41       21.05     863.05  \n",
              "2014-01-01 23:26:55         6       83.21     499.26  "
            ]
          },
          "metadata": {
            "tags": []
          },
          "execution_count": 9
        }
      ]
    },
    {
      "metadata": {
        "id": "iNRdIIFA1eeF",
        "colab_type": "text"
      },
      "cell_type": "markdown",
      "source": [
        "Use additional string functions to select, filater, map the data inside the dataframe"
      ]
    },
    {
      "metadata": {
        "id": "UAR2PJeH1lVy",
        "colab_type": "code",
        "colab": {
          "base_uri": "https://localhost:8080/",
          "height": 204
        },
        "outputId": "f6664011-e23b-45ea-a97b-72eb4d8f674f"
      },
      "cell_type": "code",
      "source": [
        "df[df['sku'].str.contains('B1')].head()"
      ],
      "execution_count": 10,
      "outputs": [
        {
          "output_type": "execute_result",
          "data": {
            "text/html": [
              "<div>\n",
              "<style scoped>\n",
              "    .dataframe tbody tr th:only-of-type {\n",
              "        vertical-align: middle;\n",
              "    }\n",
              "\n",
              "    .dataframe tbody tr th {\n",
              "        vertical-align: top;\n",
              "    }\n",
              "\n",
              "    .dataframe thead th {\n",
              "        text-align: right;\n",
              "    }\n",
              "</style>\n",
              "<table border=\"1\" class=\"dataframe\">\n",
              "  <thead>\n",
              "    <tr style=\"text-align: right;\">\n",
              "      <th></th>\n",
              "      <th>account number</th>\n",
              "      <th>name</th>\n",
              "      <th>sku</th>\n",
              "      <th>quantity</th>\n",
              "      <th>unit price</th>\n",
              "      <th>ext price</th>\n",
              "      <th>date</th>\n",
              "    </tr>\n",
              "  </thead>\n",
              "  <tbody>\n",
              "    <tr>\n",
              "      <th>0</th>\n",
              "      <td>740150</td>\n",
              "      <td>Barton LLC</td>\n",
              "      <td>B1-20000</td>\n",
              "      <td>39</td>\n",
              "      <td>86.69</td>\n",
              "      <td>3380.91</td>\n",
              "      <td>2014-01-01 07:21:51</td>\n",
              "    </tr>\n",
              "    <tr>\n",
              "      <th>2</th>\n",
              "      <td>218895</td>\n",
              "      <td>Kulas Inc</td>\n",
              "      <td>B1-69924</td>\n",
              "      <td>23</td>\n",
              "      <td>90.70</td>\n",
              "      <td>2086.10</td>\n",
              "      <td>2014-01-01 13:24:58</td>\n",
              "    </tr>\n",
              "    <tr>\n",
              "      <th>6</th>\n",
              "      <td>218895</td>\n",
              "      <td>Kulas Inc</td>\n",
              "      <td>B1-65551</td>\n",
              "      <td>2</td>\n",
              "      <td>31.10</td>\n",
              "      <td>62.20</td>\n",
              "      <td>2014-01-02 10:57:23</td>\n",
              "    </tr>\n",
              "    <tr>\n",
              "      <th>14</th>\n",
              "      <td>737550</td>\n",
              "      <td>Fritsch, Russel and Anderson</td>\n",
              "      <td>B1-53102</td>\n",
              "      <td>23</td>\n",
              "      <td>71.56</td>\n",
              "      <td>1645.88</td>\n",
              "      <td>2014-01-04 08:57:48</td>\n",
              "    </tr>\n",
              "    <tr>\n",
              "      <th>17</th>\n",
              "      <td>239344</td>\n",
              "      <td>Stokes LLC</td>\n",
              "      <td>B1-50809</td>\n",
              "      <td>14</td>\n",
              "      <td>16.23</td>\n",
              "      <td>227.22</td>\n",
              "      <td>2014-01-04 22:14:32</td>\n",
              "    </tr>\n",
              "  </tbody>\n",
              "</table>\n",
              "</div>"
            ],
            "text/plain": [
              "    account number                          name       sku  quantity  \\\n",
              "0           740150                    Barton LLC  B1-20000        39   \n",
              "2           218895                     Kulas Inc  B1-69924        23   \n",
              "6           218895                     Kulas Inc  B1-65551         2   \n",
              "14          737550  Fritsch, Russel and Anderson  B1-53102        23   \n",
              "17          239344                    Stokes LLC  B1-50809        14   \n",
              "\n",
              "    unit price  ext price                date  \n",
              "0        86.69    3380.91 2014-01-01 07:21:51  \n",
              "2        90.70    2086.10 2014-01-01 13:24:58  \n",
              "6        31.10      62.20 2014-01-02 10:57:23  \n",
              "14       71.56    1645.88 2014-01-04 08:57:48  \n",
              "17       16.23     227.22 2014-01-04 22:14:32  "
            ]
          },
          "metadata": {
            "tags": []
          },
          "execution_count": 10
        }
      ]
    },
    {
      "metadata": {
        "id": "7UvXREJXiotL",
        "colab_type": "code",
        "colab": {
          "base_uri": "https://localhost:8080/",
          "height": 136
        },
        "outputId": "75523582-f7ee-4380-bb22-3812b51f846e"
      },
      "cell_type": "code",
      "source": [
        "# find unique items with dataframe\n",
        "df[\"name\"].unique()"
      ],
      "execution_count": 11,
      "outputs": [
        {
          "output_type": "execute_result",
          "data": {
            "text/plain": [
              "array(['Barton LLC', 'Trantow-Barrows', 'Kulas Inc',\n",
              "       'Kassulke, Ondricka and Metz', 'Jerde-Hilpert', 'Koepp Ltd',\n",
              "       'Fritsch, Russel and Anderson', 'Kiehn-Spinka', 'Keeling LLC',\n",
              "       'Frami, Hills and Schmidt', 'Stokes LLC', 'Kuhn-Gusikowski',\n",
              "       'Herman LLC', 'White-Trantow', 'Sanford and Sons', 'Pollich LLC',\n",
              "       'Will LLC', 'Cronin, Oberbrunner and Spencer',\n",
              "       'Halvorson, Crona and Champlin', 'Purdy-Kunde'], dtype=object)"
            ]
          },
          "metadata": {
            "tags": []
          },
          "execution_count": 11
        }
      ]
    },
    {
      "metadata": {
        "id": "-fJWIvrNkkqY",
        "colab_type": "code",
        "colab": {
          "base_uri": "https://localhost:8080/",
          "height": 34
        },
        "outputId": "644ae437-cfd1-4720-db4a-feff5d6aca9a"
      },
      "cell_type": "code",
      "source": [
        "# check size of df - https://pandas.pydata.org/pandas-docs/stable/reference/frame.html\n",
        "#df.dtypes     \n",
        "df.shape       # returns a tuple with number of rows and columns     "
      ],
      "execution_count": 17,
      "outputs": [
        {
          "output_type": "execute_result",
          "data": {
            "text/plain": [
              "(1500, 7)"
            ]
          },
          "metadata": {
            "tags": []
          },
          "execution_count": 17
        }
      ]
    },
    {
      "metadata": {
        "id": "xkDr2ONsn-oc",
        "colab_type": "code",
        "colab": {
          "base_uri": "https://localhost:8080/",
          "height": 204
        },
        "outputId": "b51e98e4-efcf-4178-fd54-3290689730d4"
      },
      "cell_type": "code",
      "source": [
        "df.drop_duplicates(subset=[\"account number\",\"name\"]).head()"
      ],
      "execution_count": 19,
      "outputs": [
        {
          "output_type": "execute_result",
          "data": {
            "text/html": [
              "<div>\n",
              "<style scoped>\n",
              "    .dataframe tbody tr th:only-of-type {\n",
              "        vertical-align: middle;\n",
              "    }\n",
              "\n",
              "    .dataframe tbody tr th {\n",
              "        vertical-align: top;\n",
              "    }\n",
              "\n",
              "    .dataframe thead th {\n",
              "        text-align: right;\n",
              "    }\n",
              "</style>\n",
              "<table border=\"1\" class=\"dataframe\">\n",
              "  <thead>\n",
              "    <tr style=\"text-align: right;\">\n",
              "      <th></th>\n",
              "      <th>account number</th>\n",
              "      <th>name</th>\n",
              "      <th>sku</th>\n",
              "      <th>quantity</th>\n",
              "      <th>unit price</th>\n",
              "      <th>ext price</th>\n",
              "      <th>date</th>\n",
              "    </tr>\n",
              "  </thead>\n",
              "  <tbody>\n",
              "    <tr>\n",
              "      <th>0</th>\n",
              "      <td>740150</td>\n",
              "      <td>Barton LLC</td>\n",
              "      <td>B1-20000</td>\n",
              "      <td>39</td>\n",
              "      <td>86.69</td>\n",
              "      <td>3380.91</td>\n",
              "      <td>2014-01-01 07:21:51</td>\n",
              "    </tr>\n",
              "    <tr>\n",
              "      <th>1</th>\n",
              "      <td>714466</td>\n",
              "      <td>Trantow-Barrows</td>\n",
              "      <td>S2-77896</td>\n",
              "      <td>-1</td>\n",
              "      <td>63.16</td>\n",
              "      <td>-63.16</td>\n",
              "      <td>2014-01-01 10:00:47</td>\n",
              "    </tr>\n",
              "    <tr>\n",
              "      <th>2</th>\n",
              "      <td>218895</td>\n",
              "      <td>Kulas Inc</td>\n",
              "      <td>B1-69924</td>\n",
              "      <td>23</td>\n",
              "      <td>90.70</td>\n",
              "      <td>2086.10</td>\n",
              "      <td>2014-01-01 13:24:58</td>\n",
              "    </tr>\n",
              "    <tr>\n",
              "      <th>3</th>\n",
              "      <td>307599</td>\n",
              "      <td>Kassulke, Ondricka and Metz</td>\n",
              "      <td>S1-65481</td>\n",
              "      <td>41</td>\n",
              "      <td>21.05</td>\n",
              "      <td>863.05</td>\n",
              "      <td>2014-01-01 15:05:22</td>\n",
              "    </tr>\n",
              "    <tr>\n",
              "      <th>4</th>\n",
              "      <td>412290</td>\n",
              "      <td>Jerde-Hilpert</td>\n",
              "      <td>S2-34077</td>\n",
              "      <td>6</td>\n",
              "      <td>83.21</td>\n",
              "      <td>499.26</td>\n",
              "      <td>2014-01-01 23:26:55</td>\n",
              "    </tr>\n",
              "  </tbody>\n",
              "</table>\n",
              "</div>"
            ],
            "text/plain": [
              "   account number                         name       sku  quantity  \\\n",
              "0          740150                   Barton LLC  B1-20000        39   \n",
              "1          714466              Trantow-Barrows  S2-77896        -1   \n",
              "2          218895                    Kulas Inc  B1-69924        23   \n",
              "3          307599  Kassulke, Ondricka and Metz  S1-65481        41   \n",
              "4          412290                Jerde-Hilpert  S2-34077         6   \n",
              "\n",
              "   unit price  ext price                date  \n",
              "0       86.69    3380.91 2014-01-01 07:21:51  \n",
              "1       63.16     -63.16 2014-01-01 10:00:47  \n",
              "2       90.70    2086.10 2014-01-01 13:24:58  \n",
              "3       21.05     863.05 2014-01-01 15:05:22  \n",
              "4       83.21     499.26 2014-01-01 23:26:55  "
            ]
          },
          "metadata": {
            "tags": []
          },
          "execution_count": 19
        }
      ]
    },
    {
      "metadata": {
        "id": "9yFYXPBloNIC",
        "colab_type": "code",
        "colab": {
          "base_uri": "https://localhost:8080/",
          "height": 669
        },
        "outputId": "f1f1e573-5b56-4df6-8c1e-58044bb8d3aa"
      },
      "cell_type": "code",
      "source": [
        "# drop duplicates and only show the first 3 columns \"index, account number and name\"\n",
        "df.drop_duplicates(subset=[\"account number\",\"name\"]).iloc[:, 0:2]"
      ],
      "execution_count": 29,
      "outputs": [
        {
          "output_type": "execute_result",
          "data": {
            "text/html": [
              "<div>\n",
              "<style scoped>\n",
              "    .dataframe tbody tr th:only-of-type {\n",
              "        vertical-align: middle;\n",
              "    }\n",
              "\n",
              "    .dataframe tbody tr th {\n",
              "        vertical-align: top;\n",
              "    }\n",
              "\n",
              "    .dataframe thead th {\n",
              "        text-align: right;\n",
              "    }\n",
              "</style>\n",
              "<table border=\"1\" class=\"dataframe\">\n",
              "  <thead>\n",
              "    <tr style=\"text-align: right;\">\n",
              "      <th></th>\n",
              "      <th>account number</th>\n",
              "      <th>name</th>\n",
              "    </tr>\n",
              "  </thead>\n",
              "  <tbody>\n",
              "    <tr>\n",
              "      <th>0</th>\n",
              "      <td>740150</td>\n",
              "      <td>Barton LLC</td>\n",
              "    </tr>\n",
              "    <tr>\n",
              "      <th>1</th>\n",
              "      <td>714466</td>\n",
              "      <td>Trantow-Barrows</td>\n",
              "    </tr>\n",
              "    <tr>\n",
              "      <th>2</th>\n",
              "      <td>218895</td>\n",
              "      <td>Kulas Inc</td>\n",
              "    </tr>\n",
              "    <tr>\n",
              "      <th>3</th>\n",
              "      <td>307599</td>\n",
              "      <td>Kassulke, Ondricka and Metz</td>\n",
              "    </tr>\n",
              "    <tr>\n",
              "      <th>4</th>\n",
              "      <td>412290</td>\n",
              "      <td>Jerde-Hilpert</td>\n",
              "    </tr>\n",
              "    <tr>\n",
              "      <th>7</th>\n",
              "      <td>729833</td>\n",
              "      <td>Koepp Ltd</td>\n",
              "    </tr>\n",
              "    <tr>\n",
              "      <th>9</th>\n",
              "      <td>737550</td>\n",
              "      <td>Fritsch, Russel and Anderson</td>\n",
              "    </tr>\n",
              "    <tr>\n",
              "      <th>10</th>\n",
              "      <td>146832</td>\n",
              "      <td>Kiehn-Spinka</td>\n",
              "    </tr>\n",
              "    <tr>\n",
              "      <th>11</th>\n",
              "      <td>688981</td>\n",
              "      <td>Keeling LLC</td>\n",
              "    </tr>\n",
              "    <tr>\n",
              "      <th>12</th>\n",
              "      <td>786968</td>\n",
              "      <td>Frami, Hills and Schmidt</td>\n",
              "    </tr>\n",
              "    <tr>\n",
              "      <th>15</th>\n",
              "      <td>239344</td>\n",
              "      <td>Stokes LLC</td>\n",
              "    </tr>\n",
              "    <tr>\n",
              "      <th>16</th>\n",
              "      <td>672390</td>\n",
              "      <td>Kuhn-Gusikowski</td>\n",
              "    </tr>\n",
              "    <tr>\n",
              "      <th>18</th>\n",
              "      <td>141962</td>\n",
              "      <td>Herman LLC</td>\n",
              "    </tr>\n",
              "    <tr>\n",
              "      <th>20</th>\n",
              "      <td>424914</td>\n",
              "      <td>White-Trantow</td>\n",
              "    </tr>\n",
              "    <tr>\n",
              "      <th>21</th>\n",
              "      <td>527099</td>\n",
              "      <td>Sanford and Sons</td>\n",
              "    </tr>\n",
              "    <tr>\n",
              "      <th>30</th>\n",
              "      <td>642753</td>\n",
              "      <td>Pollich LLC</td>\n",
              "    </tr>\n",
              "    <tr>\n",
              "      <th>37</th>\n",
              "      <td>383080</td>\n",
              "      <td>Will LLC</td>\n",
              "    </tr>\n",
              "    <tr>\n",
              "      <th>51</th>\n",
              "      <td>257198</td>\n",
              "      <td>Cronin, Oberbrunner and Spencer</td>\n",
              "    </tr>\n",
              "    <tr>\n",
              "      <th>67</th>\n",
              "      <td>604255</td>\n",
              "      <td>Halvorson, Crona and Champlin</td>\n",
              "    </tr>\n",
              "    <tr>\n",
              "      <th>106</th>\n",
              "      <td>163416</td>\n",
              "      <td>Purdy-Kunde</td>\n",
              "    </tr>\n",
              "  </tbody>\n",
              "</table>\n",
              "</div>"
            ],
            "text/plain": [
              "     account number                             name\n",
              "0            740150                       Barton LLC\n",
              "1            714466                  Trantow-Barrows\n",
              "2            218895                        Kulas Inc\n",
              "3            307599      Kassulke, Ondricka and Metz\n",
              "4            412290                    Jerde-Hilpert\n",
              "7            729833                        Koepp Ltd\n",
              "9            737550     Fritsch, Russel and Anderson\n",
              "10           146832                     Kiehn-Spinka\n",
              "11           688981                      Keeling LLC\n",
              "12           786968         Frami, Hills and Schmidt\n",
              "15           239344                       Stokes LLC\n",
              "16           672390                  Kuhn-Gusikowski\n",
              "18           141962                       Herman LLC\n",
              "20           424914                    White-Trantow\n",
              "21           527099                 Sanford and Sons\n",
              "30           642753                      Pollich LLC\n",
              "37           383080                         Will LLC\n",
              "51           257198  Cronin, Oberbrunner and Spencer\n",
              "67           604255    Halvorson, Crona and Champlin\n",
              "106          163416                      Purdy-Kunde"
            ]
          },
          "metadata": {
            "tags": []
          },
          "execution_count": 29
        }
      ]
    }
  ]
}