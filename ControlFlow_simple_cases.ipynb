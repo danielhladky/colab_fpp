{
  "nbformat": 4,
  "nbformat_minor": 0,
  "metadata": {
    "colab": {
      "name": "ControlFlow simple cases.ipynb",
      "version": "0.3.2",
      "provenance": [],
      "collapsed_sections": [],
      "include_colab_link": true
    },
    "kernelspec": {
      "name": "python3",
      "display_name": "Python 3"
    }
  },
  "cells": [
    {
      "cell_type": "markdown",
      "metadata": {
        "id": "view-in-github",
        "colab_type": "text"
      },
      "source": [
        "<a href=\"https://colab.research.google.com/github/danielhladky/colab_fpp/blob/master/ControlFlow_simple_cases.ipynb\" target=\"_parent\"><img src=\"https://colab.research.google.com/assets/colab-badge.svg\" alt=\"Open In Colab\"/></a>"
      ]
    },
    {
      "metadata": {
        "id": "ZQQSSPUKxQun",
        "colab_type": "code",
        "colab": {
          "base_uri": "https://localhost:8080/",
          "height": 34
        },
        "outputId": "c522fbb5-a30a-4e0e-97b2-e1fc50e4d369"
      },
      "cell_type": "code",
      "source": [
        "# conditional statements, if, elif, else\n",
        "x = -16\n",
        "if x == 0:\n",
        "  print(x, \"is zero\")\n",
        "elif x > 0:\n",
        "  print(x, \"is positive\")\n",
        "elif x < 0:\n",
        "  print(x, \"is negative\")\n",
        "else:\n",
        "  print(x,\"is unlike anything I've seen\")"
      ],
      "execution_count": 4,
      "outputs": [
        {
          "output_type": "stream",
          "text": [
            "0 is zero\n"
          ],
          "name": "stdout"
        }
      ]
    },
    {
      "metadata": {
        "id": "FxCslQOMyVof",
        "colab_type": "code",
        "colab": {
          "base_uri": "https://localhost:8080/",
          "height": 51
        },
        "outputId": "19e128d8-ca4b-4385-d242-861d6979bb6d"
      },
      "cell_type": "code",
      "source": [
        "# for loops\n",
        "for N in [2, 3, 4, 6, 8]:\n",
        "  print(N, end=' ')    #print all on same line\n",
        "\n",
        "print(\"New Line\")\n",
        "\n",
        "# loop over a range\n",
        "for i in range(10):\n",
        "  print(i, end=' ')"
      ],
      "execution_count": 9,
      "outputs": [
        {
          "output_type": "stream",
          "text": [
            "2 3 4 6 8 New Line\n",
            "0 1 2 3 4 5 6 7 8 9 "
          ],
          "name": "stdout"
        }
      ]
    },
    {
      "metadata": {
        "id": "t6BP8Of-zkGk",
        "colab_type": "code",
        "colab": {
          "base_uri": "https://localhost:8080/",
          "height": 34
        },
        "outputId": "0b90f8e9-7e1f-49cf-f51c-cd30002cf6ac"
      },
      "cell_type": "code",
      "source": [
        "# complex range settings\n",
        "#list(range(5,10))     # range from 5 to 10\n",
        "\n",
        "list(range(0, 10, 2)) # range 0 to 10 with increment 2"
      ],
      "execution_count": 12,
      "outputs": [
        {
          "output_type": "execute_result",
          "data": {
            "text/plain": [
              "[0, 2, 4, 6, 8]"
            ]
          },
          "metadata": {
            "tags": []
          },
          "execution_count": 12
        }
      ]
    },
    {
      "metadata": {
        "id": "MA_zeQwq95c3",
        "colab_type": "code",
        "colab": {
          "base_uri": "https://localhost:8080/",
          "height": 34
        },
        "outputId": "b79a10cd-9b55-48f1-b678-88752fd97c69"
      },
      "cell_type": "code",
      "source": [
        "# while loops\n",
        "i = 0\n",
        "while i < 10:\n",
        "  print(i, end=' ')\n",
        "  i += 1"
      ],
      "execution_count": 13,
      "outputs": [
        {
          "output_type": "stream",
          "text": [
            "0 1 2 3 4 5 6 7 8 9 "
          ],
          "name": "stdout"
        }
      ]
    },
    {
      "metadata": {
        "id": "Fdl9qsF--Y07",
        "colab_type": "code",
        "colab": {
          "base_uri": "https://localhost:8080/",
          "height": 34
        },
        "outputId": "04ab2cf7-bf83-4d82-c72f-98454f755598"
      },
      "cell_type": "code",
      "source": [
        "# break and continue\n",
        "for n in range(20):\n",
        "  # check if n is even and print the number that was even\n",
        "  if n % 2 == 0:\n",
        "    print(n, end=' ')"
      ],
      "execution_count": 18,
      "outputs": [
        {
          "output_type": "stream",
          "text": [
            "0 2 4 6 8 10 12 14 16 18 "
          ],
          "name": "stdout"
        }
      ]
    },
    {
      "metadata": {
        "id": "7y1TRatp_haJ",
        "colab_type": "code",
        "colab": {
          "base_uri": "https://localhost:8080/",
          "height": 34
        },
        "outputId": "07c883a5-c59a-4103-e724-af9a2ab73efc"
      },
      "cell_type": "code",
      "source": [
        "# continue\n",
        "for n in range(20):\n",
        "  # check if n is even and print all others\n",
        "  if n % 2 == 0:\n",
        "    continue\n",
        "  print(n, end=' ')"
      ],
      "execution_count": 17,
      "outputs": [
        {
          "output_type": "stream",
          "text": [
            "1 3 5 7 9 11 13 15 17 19 "
          ],
          "name": "stdout"
        }
      ]
    },
    {
      "metadata": {
        "id": "CYWW2WNvBpQ3",
        "colab_type": "code",
        "colab": {
          "base_uri": "https://localhost:8080/",
          "height": 34
        },
        "outputId": "a43e90ca-b8c4-4efe-845f-4de6f607b0d0"
      },
      "cell_type": "code",
      "source": [
        "# break statement within a while loop\n",
        "# https://de.wikipedia.org/wiki/Fibonacci-Folge\n",
        "a, b = 0, 1      # initialise\n",
        "amax = 100       # set max range for fibonacci\n",
        "L = []           # empty list to collect the fibonacci numbers\n",
        "\n",
        "while True:\n",
        "  (a, b) = (b, a+b)\n",
        "  #print(\"a\", a)\n",
        "  #print(\"b\", b)\n",
        "  if a > amax:\n",
        "    break\n",
        "  L.append(a)\n",
        "  \n",
        "print(L)"
      ],
      "execution_count": 20,
      "outputs": [
        {
          "output_type": "stream",
          "text": [
            "[1, 1, 2, 3, 5, 8, 13, 21, 34, 55, 89]\n"
          ],
          "name": "stdout"
        }
      ]
    },
    {
      "metadata": {
        "id": "G80PjTX_DwkF",
        "colab_type": "code",
        "colab": {
          "base_uri": "https://localhost:8080/",
          "height": 34
        },
        "outputId": "5c54ddb8-be41-4c5f-cf75-55793521a27a"
      },
      "cell_type": "code",
      "source": [
        "# find prime numbers with Sieve of Eratosthenes algorithm and break, else statement\n",
        "# https://en.wikipedia.org/wiki/Sieve_of_Eratosthenes\n",
        "\n",
        "L = []\n",
        "nmax = 30\n",
        "for n in range(2, nmax):\n",
        "  for factor in L:\n",
        "    if n % factor == 0:\n",
        "      break\n",
        "    else:\n",
        "      L.append(n)\n",
        "print(L)"
      ],
      "execution_count": 23,
      "outputs": [
        {
          "output_type": "stream",
          "text": [
            "[]\n"
          ],
          "name": "stdout"
        }
      ]
    }
  ]
}